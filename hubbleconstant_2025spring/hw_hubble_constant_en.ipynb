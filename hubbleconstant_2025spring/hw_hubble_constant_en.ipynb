{
 "cells": [
  {
   "cell_type": "markdown",
   "metadata": {},
   "source": [
    "# The Hubble Constant\n",
    "25.05.27 AstroLab\n",
    "\n",
    "\n",
    "작성자: Seungwu Yoo"
   ]
  },
  {
   "cell_type": "markdown",
   "metadata": {},
   "source": [
    "## README\n",
    "\n",
    "This notebook consists of three types of code cells:\n",
    "\n",
    "The [Advanced] sections are dedicated to those who wish to further pursue and deeply study astronomy.\n",
    "\n",
    "- [Mission]: Sections where you directly modify and manipulate values for practice.\n",
    "\n",
    "\n",
    "- [Auto]: Sections that are not essential to manipulate for practice but are easy to understand.\n",
    "\n",
    "\n",
    "- [Advanced]: Background information provided for practice; sections that you can execute without needing to fully understand or manipulate.\n",
    "\n",
    "The [Advanced] sections are dedicated to those who wish to further pursue and deeply study astronomy."
   ]
  },
  {
   "cell_type": "markdown",
   "metadata": {},
   "source": [
    "### [Auto] Import the package"
   ]
  },
  {
   "cell_type": "code",
   "execution_count": 9,
   "metadata": {},
   "outputs": [],
   "source": [
    "import numpy as np\n",
    "import matplotlib.pyplot as plt\n",
    "\n",
    "import pandas as pd\n",
    "\n",
    "from astroquery.sdss import SDSS\n",
    "from astropy import coordinates as coords"
   ]
  },
  {
   "cell_type": "markdown",
   "metadata": {},
   "source": [
    "### [Advanced] Cosmicflows-4 Data\n",
    "\n",
    "- Reference: https://ui.adsabs.harvard.edu/abs/2023ApJ...944...94T/abstract\n",
    "\n",
    "- Data Source: Cosmicflows-4 Database\n",
    "\n",
    "- The file 'allCF4_individual.txt' provides measurements for individual galaxies, including recessional velocities and distance moduli.\n",
    "\n",
    "- Vcmb: The systemic velocity of the galaxy in the cosmic microwave background (CMB) reference frame.\n",
    "    - This value accounts for the motion of the observer (e.g., the Earth, the Milky Way, or space-based telescopes like GAIA).\n",
    "    - The dipole anisotropy observed in the CMB—caused by the observer's peculiar motion—can be used to correct observed redshifts, providing an isotropic frame of reference.\n",
    "- DM (Distance Modulus): $m - M = 5\\log_{10}\\left(\\frac{d}{pc}\\right) - 5$"
   ]
  },
  {
   "cell_type": "code",
   "execution_count": 3,
   "metadata": {},
   "outputs": [],
   "source": [
    "vcmb_CF4, dm_CF4, ra_CF4, dec_CF4 = np.loadtxt('allCF4_individual.txt', skiprows=5, unpack=True, usecols=[3, 4, -9,-8])"
   ]
  },
  {
   "cell_type": "markdown",
   "metadata": {},
   "source": [
    "### [Advanced] Match the cosmicflows-4 data with SDSS query\n",
    "\n",
    "- 'matching.txt' 파일을 만든 코드\n",
    "\n",
    "- 시간이 오래 걸리므로 제공된 파일을 사용하는 것을 추천\n",
    "\n",
    "- 사용하고 싶으면 맨 처음 '''와 맨 마지막 '''을 제거하고 실행"
   ]
  },
  {
   "cell_type": "code",
   "execution_count": null,
   "metadata": {},
   "outputs": [],
   "source": [
    "'''from tqdm.notebook import tqdm\n",
    "\n",
    "f = open('matching.txt', 'w')\n",
    "f.write('ra_cf4 dec_cf4 ra_sdss dec_sdss r objid\\n')\n",
    "for ra, dec in tqdm(zip(ra_CF4, dec_CF4), total=len(ra_CF4), desc='Matching CF4 with SDSS'):\n",
    "    # Define the coordinate object\n",
    "    coord = coords.SkyCoord(ra, dec, unit=\"deg\", frame='icrs')\n",
    "    \n",
    "    try:\n",
    "        # Query for spectra within 2 arcseconds of the coordinate\n",
    "        xid = SDSS.query_region(coord, spectro=True, radius='1arcsec', photoobj_fields=['r', 'objid'],\n",
    "                            specobj_fields=['ra', 'dec', 'plate', 'mjd', 'fiberID'], timeout=300)\n",
    "    \n",
    "        f.write('%f %f %f %f %f %d %d %d %d\\n'%(ra, dec, float(xid['ra'][0]), float(xid['dec'][0]),\n",
    "                                     float(xid['r'][0]), int(xid['objid'][0]), int(xid['plate'][0]),\n",
    "                                     int(xid['mjd'][0]), int(xid['fiberID'][0])))\n",
    "    except:\n",
    "        f.write(f'{ra} {dec} -999 -9999 -9 -9 -9 -9 -9\\n')\n",
    "        \n",
    "f.close()'''"
   ]
  },
  {
   "cell_type": "markdown",
   "metadata": {},
   "source": [
    "### [Advanced] Load 'matching.txt' file\n",
    "\n",
    "- 'spectroscopy.ipynb'의 SDSS get_spectra() 함수에 넣을 plate, mjd, fiberid를 제공함\n",
    "\n",
    "- Cosmicflows-4의 거리 (DM) 정보와 matching 시킬 수 있음"
   ]
  },
  {
   "cell_type": "code",
   "execution_count": 8,
   "metadata": {},
   "outputs": [
    {
     "name": "stdout",
     "output_type": "stream",
     "text": [
      "plate: [ 750. 6879.  751. ... 4534. 1929. 6305.]\n",
      "mjd: [52235. 56539. 52251. ... 55863. 53349. 56563.]\n",
      "fiberid: [605. 726. 329. ... 233. 597. 302.]\n"
     ]
    }
   ],
   "source": [
    "matched_ra, matched_dec, r, plate, mjd, fiberid = np.loadtxt('matching.txt', skiprows=1, \n",
    "                                                             unpack=True, usecols=[2,3,4,6,7,8])\n",
    "\n",
    "print(f'plate: {plate[plate != -9]}')\n",
    "print(f'mjd: {mjd[mjd != -9]}')\n",
    "print(f'fiberid: {fiberid[fiberid != -9]}')"
   ]
  },
  {
   "cell_type": "markdown",
   "metadata": {},
   "source": [
    "### [Advanced] Match the Cosmicflows-4 Data with SDSS Query\n",
    "\n",
    "- The file 'matching.txt' was generated using the code below.\n",
    "\n",
    "- Since this matching process can be time-consuming, $\\color{magenta}\\textbf{it is recommended to use the provided file directly.}$\n",
    "\n",
    "- If you wish to re-run the code, simply remove the opening ''' and closing ''' to execute the block."
   ]
  },
  {
   "cell_type": "code",
   "execution_count": 10,
   "metadata": {},
   "outputs": [
    {
     "data": {
      "text/html": [
       "<div>\n",
       "<style scoped>\n",
       "    .dataframe tbody tr th:only-of-type {\n",
       "        vertical-align: middle;\n",
       "    }\n",
       "\n",
       "    .dataframe tbody tr th {\n",
       "        vertical-align: top;\n",
       "    }\n",
       "\n",
       "    .dataframe thead th {\n",
       "        text-align: right;\n",
       "    }\n",
       "</style>\n",
       "<table border=\"1\" class=\"dataframe\">\n",
       "  <thead>\n",
       "    <tr style=\"text-align: right;\">\n",
       "      <th></th>\n",
       "      <th>spec</th>\n",
       "      <th>dist</th>\n",
       "    </tr>\n",
       "  </thead>\n",
       "  <tbody>\n",
       "    <tr>\n",
       "      <th>0</th>\n",
       "      <td>0</td>\n",
       "      <td>57.623549</td>\n",
       "    </tr>\n",
       "    <tr>\n",
       "      <th>1</th>\n",
       "      <td>1</td>\n",
       "      <td>14.144904</td>\n",
       "    </tr>\n",
       "    <tr>\n",
       "      <th>2</th>\n",
       "      <td>2</td>\n",
       "      <td>59.951493</td>\n",
       "    </tr>\n",
       "    <tr>\n",
       "      <th>3</th>\n",
       "      <td>3</td>\n",
       "      <td>64.061927</td>\n",
       "    </tr>\n",
       "    <tr>\n",
       "      <th>4</th>\n",
       "      <td>4</td>\n",
       "      <td>28.933435</td>\n",
       "    </tr>\n",
       "  </tbody>\n",
       "</table>\n",
       "</div>"
      ],
      "text/plain": [
       "   spec       dist\n",
       "0     0  57.623549\n",
       "1     1  14.144904\n",
       "2     2  59.951493\n",
       "3     3  64.061927\n",
       "4     4  28.933435"
      ]
     },
     "execution_count": 10,
     "metadata": {},
     "output_type": "execute_result"
    }
   ],
   "source": [
    "dist = pd.read_csv('dist.txt', sep=\" \")\n",
    "dist.head(5)"
   ]
  },
  {
   "cell_type": "markdown",
   "metadata": {},
   "source": [
    "### [Mission] Calculate the Hubble constant\n",
    "\n",
    "- Using the velocity–distance relation for at least 20 given spectra, estimate the Hubble constant.\n",
    "\n",
    "- $\\color{magenta}\\textbf{You must generate and present the graph yourself.}$\n",
    "\n",
    "- For linear regression, you may either use the formula introduced in lecture or apply a suitable statistical package.\n",
    "\n",
    "- In the case where the intercept is zero ($Y = mX$):\n",
    "    - $m=\\frac{\\sum_{i=1}^nY_iX_i}{\\sum_{i=1}^nX_i^2}$"
   ]
  },
  {
   "cell_type": "code",
   "execution_count": 11,
   "metadata": {},
   "outputs": [],
   "source": [
    "def linear_regression(xdat, ydat, intercept=True):\n",
    "    XY, XX = 0, 0\n",
    "    xbar, ybar = np.mean(xdat), np.mean(ydat)\n",
    "    if intercept:\n",
    "        ydat = ydat - ybar\n",
    "        xdat = xdat - xbar\n",
    "    for x, y in zip(xdat, ydat):\n",
    "        XY += x * y\n",
    "        XX += x * x\n",
    "    m = XY / XX\n",
    "    b = ybar - m * xbar if intercept else 0\n",
    "    return m, b"
   ]
  },
  {
   "cell_type": "markdown",
   "metadata": {},
   "source": [
    "### Additional thinking (Duty)\n",
    "\n",
    "- (Discussion required!) Why might the Hubble constant you calculated differ from the known value?"
   ]
  }
 ],
 "metadata": {
  "kernelspec": {
   "display_name": "base",
   "language": "python",
   "name": "python3"
  },
  "language_info": {
   "codemirror_mode": {
    "name": "ipython",
    "version": 3
   },
   "file_extension": ".py",
   "mimetype": "text/x-python",
   "name": "python",
   "nbconvert_exporter": "python",
   "pygments_lexer": "ipython3",
   "version": "3.11.8"
  }
 },
 "nbformat": 4,
 "nbformat_minor": 2
}
