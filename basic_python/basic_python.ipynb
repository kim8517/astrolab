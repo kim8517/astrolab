{
 "cells": [
  {
   "cell_type": "markdown",
   "id": "80bd0ccf",
   "metadata": {},
   "source": [
    "# Concept of coding"
   ]
  },
  {
   "cell_type": "markdown",
   "id": "5ae0605a",
   "metadata": {},
   "source": [
    "Coding is the same as what you have doen with your computer; it order the computer to do what you want.\n",
    "\n",
    "The difference is that you order your computer using mouse and GUI in normal probrams but in coding you order your computer with 'codes'.\n",
    "\n",
    "Varius langues have been developed for coding and each language has its own syntax for you computer to understand your order.\n",
    "\n",
    "In Astropylab class, we use 'Python', one of the most popular language.\n",
    "\n",
    "The sterngth of Python is that its easy.\n",
    "\n",
    "Thanks to the simplicipy of it, many programs have aleady been developed based on 'Python' and we can use them easily.\n",
    "\n",
    "In the basic coding class, we will learn the baisc syntax of Pythons.\n",
    "\n",
    "After this class, you will encounter seemingly very complex codes.\n",
    "\n",
    "But don't panic, they are just combinations of simle syntax you learn in this class.\n",
    "\n",
    "You even won't need to understand the whole structre of those codes except for the key part.\n",
    "\n",
    "So, please focus this class and try to follow the instructions. When you have a trouble, don't hesitate to ask qusetions.\n",
    "\n",
    "TA will help you until you understand.\n",
    "\n"
   ]
  },
  {
   "cell_type": "markdown",
   "id": "6ee95fac",
   "metadata": {},
   "source": [
    "# 0. Basis of basic"
   ]
  },
  {
   "cell_type": "markdown",
   "id": "e7de5abf",
   "metadata": {},
   "source": [
    "## 0.1. Let's print \"Hello world!\""
   ]
  },
  {
   "cell_type": "code",
   "execution_count": 12,
   "id": "8b94b589",
   "metadata": {},
   "outputs": [
    {
     "name": "stdout",
     "output_type": "stream",
     "text": [
      "Hello world!\n"
     ]
    }
   ],
   "source": [
    "print('Hello world!')"
   ]
  },
  {
   "cell_type": "markdown",
   "id": "a62190b4",
   "metadata": {},
   "source": [
    "## 0.2. Comments and Markdown"
   ]
  },
  {
   "cell_type": "code",
   "execution_count": 13,
   "id": "c9483b26",
   "metadata": {},
   "outputs": [
    {
     "name": "stdout",
     "output_type": "stream",
     "text": [
      "Hello world!\n"
     ]
    }
   ],
   "source": [
    "# If you want to write a comment without affect the code, write # in front of the texts.\n",
    "# Texts behind # do not affect the code.\n",
    "# e.g.\n",
    "print('Hello world!') # print function"
   ]
  },
  {
   "cell_type": "markdown",
   "id": "164bcd5b",
   "metadata": {},
   "source": [
    "Markdown is useful when you need to write description or long comments.\n",
    "\n",
    "You can set a cell as a markdown cell by pushing 'm' in your keyboard.\n",
    "\n",
    "You can write anything in the markdown cell.\n",
    "\n",
    "# To write title, add # in front of the text.\n",
    "\n",
    "If you know the latex syntax, you can add equtions: $a+b=c$."
   ]
  },
  {
   "cell_type": "markdown",
   "id": "1aea2a2b",
   "metadata": {},
   "source": [
    "# 1. Basic"
   ]
  },
  {
   "cell_type": "markdown",
   "id": "97307be5",
   "metadata": {},
   "source": [
    "Imagine you order your computer to do something.\n",
    "\n",
    "For the computer to complete your order, we have to specify 'do' and '-thing'.\n",
    "\n",
    "In this section, you will learn how to specify 'do' and '-thing'"
   ]
  },
  {
   "cell_type": "markdown",
   "id": "9c67f148",
   "metadata": {},
   "source": [
    "## 1.1. Variable"
   ]
  },
  {
   "cell_type": "markdown",
   "id": "fe6312da",
   "metadata": {},
   "source": [
    "Variables are used to store data; it's for '-thing'.\n",
    "\n",
    "A variable consists of a name and data: (name) = data\n",
    "\n",
    "i.e. The data you will use is stored in CPU with the name you assigned.\n",
    "\n",
    "Then, you can access the data with the name you assigned."
   ]
  },
  {
   "cell_type": "code",
   "execution_count": 14,
   "id": "0102ef6e",
   "metadata": {},
   "outputs": [
    {
     "name": "stdout",
     "output_type": "stream",
     "text": [
      "1\n"
     ]
    }
   ],
   "source": [
    "a = 1 # Data '1' is stored in CPU with a name 'a'.\n",
    "print(a) # you can recall the data '1' with the name 'a'"
   ]
  },
  {
   "cell_type": "markdown",
   "id": "c0990323",
   "metadata": {},
   "source": [
    "## 1.2. Data type"
   ]
  },
  {
   "cell_type": "markdown",
   "id": "8ec946ec",
   "metadata": {},
   "source": [
    "Most languages distingush the format of the data.\n",
    "\n",
    "In python, the data are classified into string, interger, float, and boolean.\n",
    "\n",
    "To check the type, use type function: type(data).\n",
    "\n",
    "It returns the type of the data."
   ]
  },
  {
   "cell_type": "markdown",
   "id": "2003f380",
   "metadata": {},
   "source": [
    "### 1.2.1. Interger"
   ]
  },
  {
   "cell_type": "markdown",
   "id": "8b569746",
   "metadata": {},
   "source": [
    "Interger is the data format indicating whole numbers."
   ]
  },
  {
   "cell_type": "code",
   "execution_count": 15,
   "id": "64e9f8da",
   "metadata": {},
   "outputs": [
    {
     "name": "stdout",
     "output_type": "stream",
     "text": [
      "1\n",
      "<class 'int'>\n"
     ]
    }
   ],
   "source": [
    "a = 1\n",
    "print(a)\n",
    "print(type(a))"
   ]
  },
  {
   "cell_type": "code",
   "execution_count": 16,
   "id": "002def6a",
   "metadata": {},
   "outputs": [
    {
     "name": "stdout",
     "output_type": "stream",
     "text": [
      "-1\n",
      "<class 'int'>\n"
     ]
    }
   ],
   "source": [
    "b = -1\n",
    "print(b)\n",
    "print(type(b))"
   ]
  },
  {
   "cell_type": "markdown",
   "id": "47fd5733",
   "metadata": {},
   "source": [
    "### 1.2.2. Floats"
   ]
  },
  {
   "cell_type": "markdown",
   "id": "6a928748",
   "metadata": {},
   "source": [
    "Float is the data format indicating decimical numbers"
   ]
  },
  {
   "cell_type": "code",
   "execution_count": 17,
   "id": "60fa0790",
   "metadata": {},
   "outputs": [
    {
     "name": "stdout",
     "output_type": "stream",
     "text": [
      "1.2\n",
      "<class 'float'>\n"
     ]
    }
   ],
   "source": [
    "a = 1.2\n",
    "print(a)\n",
    "print(type(a))"
   ]
  },
  {
   "cell_type": "markdown",
   "id": "094e1425",
   "metadata": {},
   "source": [
    "### 1.2.3. String"
   ]
  },
  {
   "cell_type": "markdown",
   "id": "dbfdbbb1",
   "metadata": {},
   "source": [
    "String is the data format indicating text.\n",
    "\n",
    "The string is surrounded by ' or \""
   ]
  },
  {
   "cell_type": "code",
   "execution_count": 18,
   "id": "388c34d8",
   "metadata": {},
   "outputs": [
    {
     "name": "stdout",
     "output_type": "stream",
     "text": [
      "Alice\n",
      "<class 'str'>\n"
     ]
    }
   ],
   "source": [
    "name = 'Alice'\n",
    "print(name)\n",
    "print(type(name))"
   ]
  },
  {
   "cell_type": "markdown",
   "id": "23b74926",
   "metadata": {},
   "source": [
    "### 1.2.4. Boolen"
   ]
  },
  {
   "cell_type": "markdown",
   "id": "33afa167",
   "metadata": {},
   "source": [
    "Boolen is the data format indicating True or False.\n",
    "\n",
    "You may not understand the usage of it now.\n",
    "\n",
    "But it wokrs an important role in copmlex codes. (e.g., see if statements or while loop)"
   ]
  },
  {
   "cell_type": "code",
   "execution_count": 19,
   "id": "29ae7163",
   "metadata": {},
   "outputs": [
    {
     "name": "stdout",
     "output_type": "stream",
     "text": [
      "True\n",
      "<class 'bool'>\n"
     ]
    }
   ],
   "source": [
    "mask = True\n",
    "print(mask)\n",
    "print(type(mask))"
   ]
  },
  {
   "cell_type": "markdown",
   "id": "4ebd9e54",
   "metadata": {},
   "source": [
    "## 1.3. Operations"
   ]
  },
  {
   "cell_type": "markdown",
   "id": "da40a1b1",
   "metadata": {},
   "source": [
    "Now, you will learn about 'do'.\n",
    "\n",
    "Let's start wtih basic operations.\n",
    "\n",
    "You can perform basic math operations like addition, subtraction, multiplication, and division in Python with the '+', '-', '*', '/'."
   ]
  },
  {
   "cell_type": "markdown",
   "id": "f6d881a4",
   "metadata": {},
   "source": [
    "### 1.3.1. Addition"
   ]
  },
  {
   "cell_type": "code",
   "execution_count": 20,
   "id": "efb3c352",
   "metadata": {},
   "outputs": [
    {
     "name": "stdout",
     "output_type": "stream",
     "text": [
      "7\n"
     ]
    }
   ],
   "source": [
    "print(2+5)"
   ]
  },
  {
   "cell_type": "code",
   "execution_count": 21,
   "id": "dd6f8130",
   "metadata": {},
   "outputs": [
    {
     "name": "stdout",
     "output_type": "stream",
     "text": [
      "7\n"
     ]
    }
   ],
   "source": [
    "a = 2\n",
    "b = 5\n",
    "print(a+b)"
   ]
  },
  {
   "cell_type": "code",
   "execution_count": 22,
   "id": "9a2405fb",
   "metadata": {},
   "outputs": [
    {
     "name": "stdout",
     "output_type": "stream",
     "text": [
      "7\n"
     ]
    }
   ],
   "source": [
    "a = 2\n",
    "b = 5\n",
    "c = 2+5\n",
    "print(c)"
   ]
  },
  {
   "cell_type": "markdown",
   "id": "42aeb19a",
   "metadata": {},
   "source": [
    "* you can perfrom an addition operation betweem strings"
   ]
  },
  {
   "cell_type": "code",
   "execution_count": 23,
   "id": "992992a6",
   "metadata": {},
   "outputs": [
    {
     "name": "stdout",
     "output_type": "stream",
     "text": [
      "Hello, World!\n"
     ]
    }
   ],
   "source": [
    "a = \"Hello, \"\n",
    "b = \"World!\"\n",
    "c = a+b\n",
    "print(c)"
   ]
  },
  {
   "cell_type": "markdown",
   "id": "754d7be0",
   "metadata": {},
   "source": [
    "### 1.3.2. Subtraction"
   ]
  },
  {
   "cell_type": "code",
   "execution_count": 24,
   "id": "0c3457ed",
   "metadata": {},
   "outputs": [
    {
     "name": "stdout",
     "output_type": "stream",
     "text": [
      "-3\n"
     ]
    }
   ],
   "source": [
    "print(2-5)"
   ]
  },
  {
   "cell_type": "code",
   "execution_count": 25,
   "id": "886b1ad5",
   "metadata": {},
   "outputs": [
    {
     "name": "stdout",
     "output_type": "stream",
     "text": [
      "-3\n"
     ]
    }
   ],
   "source": [
    "a = 2\n",
    "b = 5\n",
    "print(a-b)"
   ]
  },
  {
   "cell_type": "code",
   "execution_count": 26,
   "id": "854908cd",
   "metadata": {},
   "outputs": [
    {
     "name": "stdout",
     "output_type": "stream",
     "text": [
      "-3\n"
     ]
    }
   ],
   "source": [
    "a = 2\n",
    "b = 5\n",
    "c = 2-5\n",
    "print(c)"
   ]
  },
  {
   "cell_type": "markdown",
   "id": "6df70a62",
   "metadata": {},
   "source": [
    "### 1.3.3. Multiplication"
   ]
  },
  {
   "cell_type": "code",
   "execution_count": 27,
   "id": "dbb27794",
   "metadata": {},
   "outputs": [
    {
     "name": "stdout",
     "output_type": "stream",
     "text": [
      "10\n"
     ]
    }
   ],
   "source": [
    "print(2*5)"
   ]
  },
  {
   "cell_type": "code",
   "execution_count": 28,
   "id": "98193dad",
   "metadata": {},
   "outputs": [
    {
     "name": "stdout",
     "output_type": "stream",
     "text": [
      "10\n"
     ]
    }
   ],
   "source": [
    "a = 2\n",
    "b = 5\n",
    "print(a*b)"
   ]
  },
  {
   "cell_type": "code",
   "execution_count": 29,
   "id": "08998e3c",
   "metadata": {},
   "outputs": [
    {
     "name": "stdout",
     "output_type": "stream",
     "text": [
      "10\n"
     ]
    }
   ],
   "source": [
    "a = 2\n",
    "b = 5\n",
    "c = 2*5\n",
    "print(c)"
   ]
  },
  {
   "cell_type": "markdown",
   "id": "e446e7bb",
   "metadata": {},
   "source": [
    "The power operation symbol in Python is **:"
   ]
  },
  {
   "cell_type": "code",
   "execution_count": 30,
   "id": "8dcfe082",
   "metadata": {},
   "outputs": [
    {
     "name": "stdout",
     "output_type": "stream",
     "text": [
      "32\n"
     ]
    }
   ],
   "source": [
    "a = 2\n",
    "b = 5\n",
    "c = a**b\n",
    "print(c)"
   ]
  },
  {
   "cell_type": "markdown",
   "id": "0f8065a1",
   "metadata": {},
   "source": [
    "### 1.3.4 Division"
   ]
  },
  {
   "cell_type": "code",
   "execution_count": 31,
   "id": "d00a6b80",
   "metadata": {},
   "outputs": [
    {
     "name": "stdout",
     "output_type": "stream",
     "text": [
      "0.4\n"
     ]
    }
   ],
   "source": [
    "print(2/5)"
   ]
  },
  {
   "cell_type": "code",
   "execution_count": 32,
   "id": "f9d762fd",
   "metadata": {},
   "outputs": [
    {
     "name": "stdout",
     "output_type": "stream",
     "text": [
      "0.4\n"
     ]
    }
   ],
   "source": [
    "a = 2\n",
    "b = 5\n",
    "print(a/b)"
   ]
  },
  {
   "cell_type": "code",
   "execution_count": 33,
   "id": "42d9f99f",
   "metadata": {},
   "outputs": [
    {
     "name": "stdout",
     "output_type": "stream",
     "text": [
      "0.4\n"
     ]
    }
   ],
   "source": [
    "a = 2\n",
    "b = 5\n",
    "c = 2/5\n",
    "print(c)"
   ]
  },
  {
   "cell_type": "markdown",
   "id": "5654eaee",
   "metadata": {},
   "source": [
    "You can calculate a quotient and a remainder using // and %:"
   ]
  },
  {
   "cell_type": "code",
   "execution_count": 34,
   "id": "d7ee29e5",
   "metadata": {},
   "outputs": [
    {
     "name": "stdout",
     "output_type": "stream",
     "text": [
      "0\n",
      "2\n"
     ]
    }
   ],
   "source": [
    "a = 2\n",
    "b = 5\n",
    "print(2//5)\n",
    "print(2%5)"
   ]
  },
  {
   "cell_type": "markdown",
   "id": "531a6550",
   "metadata": {},
   "source": [
    "Python automatically change the data type when you apply arithmic operator to intergers or floats, which are generally impossible for other languges:"
   ]
  },
  {
   "cell_type": "code",
   "execution_count": 35,
   "id": "b0835fe8",
   "metadata": {},
   "outputs": [
    {
     "name": "stdout",
     "output_type": "stream",
     "text": [
      "5.5\n",
      "<class 'float'>\n"
     ]
    }
   ],
   "source": [
    "a = 1 # integer\n",
    "b = 4.5 # float\n",
    "c = a+b # integer + float is impossible, so Python automatically change 1 into 1.0\n",
    "print(c)\n",
    "print(type(c))"
   ]
  },
  {
   "cell_type": "markdown",
   "id": "0becd6ab",
   "metadata": {},
   "source": [
    "## 1.4. Comparisoin Operations"
   ]
  },
  {
   "cell_type": "markdown",
   "id": "6caf8655",
   "metadata": {},
   "source": [
    "Comparison operators compare two values and return boolen values.\n",
    "\n",
    "If the statement is true, the comparision operators return True.\n",
    "\n",
    "Oterwise, they return False.\n",
    "\n",
    "Let's take the example of '>'"
   ]
  },
  {
   "cell_type": "code",
   "execution_count": 36,
   "id": "e5212a47",
   "metadata": {},
   "outputs": [
    {
     "name": "stdout",
     "output_type": "stream",
     "text": [
      "False\n",
      "True\n"
     ]
    }
   ],
   "source": [
    "# 2>5 is wrong, so this statement will return False.\n",
    "print(2>5)\n",
    "# 2<5 is correct, so this statement will return True\n",
    "print(2<5)"
   ]
  },
  {
   "cell_type": "code",
   "execution_count": 37,
   "id": "119a7141",
   "metadata": {},
   "outputs": [
    {
     "name": "stdout",
     "output_type": "stream",
     "text": [
      "False\n",
      "True\n"
     ]
    }
   ],
   "source": [
    "a = (2>5)\n",
    "print(a)\n",
    "b = (2<5)\n",
    "print(b)"
   ]
  },
  {
   "cell_type": "markdown",
   "id": "8a18ac12",
   "metadata": {},
   "source": [
    "There are other comparison operators:\n",
    "- ==: two values are equal.\n",
    "- \\>-/<=: onve value is equal or greater"
   ]
  },
  {
   "cell_type": "code",
   "execution_count": 38,
   "id": "07146495",
   "metadata": {},
   "outputs": [
    {
     "name": "stdout",
     "output_type": "stream",
     "text": [
      "False\n",
      "True\n"
     ]
    }
   ],
   "source": [
    "a = (2==5)\n",
    "print(a)\n",
    "b = (5==5)\n",
    "print(b)"
   ]
  },
  {
   "cell_type": "code",
   "execution_count": 39,
   "id": "19ebadee",
   "metadata": {},
   "outputs": [
    {
     "name": "stdout",
     "output_type": "stream",
     "text": [
      "False\n",
      "True\n",
      "True\n",
      "True\n"
     ]
    }
   ],
   "source": [
    "a = (2>=5)\n",
    "print(a)\n",
    "b = (5>=5)\n",
    "print(b)\n",
    "c = (5<=5)\n",
    "print(c)\n",
    "d = (2<=5)\n",
    "print(d)"
   ]
  },
  {
   "cell_type": "markdown",
   "id": "36f20e1d",
   "metadata": {},
   "source": [
    "# 2. More complex syntax"
   ]
  },
  {
   "cell_type": "markdown",
   "id": "4491bab9",
   "metadata": {},
   "source": [
    "Now, you know how to order your computer to do somthing.\n",
    "\n",
    "In principle, you can order the computer to do anthing you want if you have enough time and big screen.\n",
    "\n",
    "But, practically you can't.\n",
    "\n",
    "Imagine you want to calculate the series of multiples of two.\n",
    "\n",
    "You can do it based on what you learned:\n",
    "\n",
    "a = 2\n",
    "\n",
    "b = 2*2\n",
    "\n",
    "c = 2*3\n",
    "\n",
    "d = 2*4\n",
    "...\n",
    "\n",
    "But it takes too much time, many names for stroing the data, and large screen to show all of these variables,,,\n",
    "We need a more efficient way."
   ]
  },
  {
   "cell_type": "markdown",
   "id": "7115ea19",
   "metadata": {},
   "source": [
    "It is similar to learn more complex grammar in English.\n",
    "\n",
    "In section 1, you learned simple sentence consisting of a subject and a verb.\n",
    "\n",
    "You can convey your intension with only simple sentences, but more advanced grammer is neccessary to speak more efficiently. e.g. which is~"
   ]
  },
  {
   "cell_type": "markdown",
   "id": "e1e0cd69",
   "metadata": {},
   "source": [
    "In this section, we will learn more advanced syntax that help us order the computer more effieciently."
   ]
  },
  {
   "cell_type": "markdown",
   "id": "465d145f",
   "metadata": {},
   "source": [
    "## 2.1. Saving many data in one variable."
   ]
  },
  {
   "cell_type": "markdown",
   "id": "13669e3f",
   "metadata": {},
   "source": [
    "First step is to save various data in one variable.\n",
    "\n",
    "If you have many data, assign different variables to them is very diffult.\n",
    "\n",
    "In Python, there are many options to avoid this by saving many data in onver variable including list, dictionary, and array.\n",
    "\n",
    "You can save the data in them, and recall them whenever you want.\n",
    "\n",
    "Let's start with a list."
   ]
  },
  {
   "cell_type": "markdown",
   "id": "4c4053d0",
   "metadata": {},
   "source": [
    "### 2.1.1. List"
   ]
  },
  {
   "cell_type": "markdown",
   "id": "46ba8dc1",
   "metadata": {},
   "source": [
    "List is a basic python syntax to save many data.\n",
    "\n",
    "The symobls for the list is [].\n",
    "\n",
    "If you save the data in [], Python assign the number called 'index' in ascending order starting from 0.\n",
    "\n",
    "Then, you can recall the data by poiting the list and index.\n",
    "\n",
    "You can understand the list with the following example"
   ]
  },
  {
   "cell_type": "markdown",
   "id": "9d3849a6",
   "metadata": {},
   "source": [
    "#### 2.1.1.1. List basic"
   ]
  },
  {
   "cell_type": "markdown",
   "id": "ebb9fc51",
   "metadata": {},
   "source": [
    "- Define a list\n",
    "List is defined by saving data in []"
   ]
  },
  {
   "cell_type": "code",
   "execution_count": 40,
   "id": "65fff82a",
   "metadata": {},
   "outputs": [
    {
     "name": "stdout",
     "output_type": "stream",
     "text": [
      "[0, 3, 8, 10]\n"
     ]
    }
   ],
   "source": [
    "A = [0,3,8,10] # save 0, 3, 8, and 10 in the list 'A'.\n",
    "print(A)"
   ]
  },
  {
   "cell_type": "markdown",
   "id": "8482abb1",
   "metadata": {},
   "source": [
    "- Now, 0, 3, 8, and 10 are save in the list 'A' and they are assigned the index 0, 3, 8, and, 10.\n",
    "- If you want to recall the data (e.g. 3), you just need to point the list with their indices (e.g. A[1])\n",
    "- Note that Python start indexing from 0!"
   ]
  },
  {
   "cell_type": "code",
   "execution_count": 41,
   "id": "c899ee62",
   "metadata": {
    "tags": []
   },
   "outputs": [
    {
     "name": "stdout",
     "output_type": "stream",
     "text": [
      "3\n"
     ]
    }
   ],
   "source": [
    "print(A[1]) # recall the second element of the list A."
   ]
  },
  {
   "cell_type": "markdown",
   "id": "b5a151b2",
   "metadata": {},
   "source": [
    "- You can recall the data in backwards. -1 is the index for the end element of the list.\n",
    "- e.g. For the list A, 10: -1, 8: -2, 3: -3, 0: -4"
   ]
  },
  {
   "cell_type": "code",
   "execution_count": 42,
   "id": "619accad",
   "metadata": {
    "tags": []
   },
   "outputs": [
    {
     "name": "stdout",
     "output_type": "stream",
     "text": [
      "8\n"
     ]
    }
   ],
   "source": [
    "print(A[-2]) # recall the second elemnt of the list A from the end"
   ]
  },
  {
   "cell_type": "markdown",
   "id": "413f2a43",
   "metadata": {},
   "source": [
    "- Or, you can using range to recall more than one data.\n",
    "- Note that the right end index is not include"
   ]
  },
  {
   "cell_type": "code",
   "execution_count": 43,
   "id": "a5e8e987",
   "metadata": {
    "tags": []
   },
   "outputs": [
    {
     "name": "stdout",
     "output_type": "stream",
     "text": [
      "[3, 8]\n"
     ]
    }
   ],
   "source": [
    "print(A[1:3]) # recall the second to third element from the list A."
   ]
  },
  {
   "cell_type": "code",
   "execution_count": 44,
   "id": "d2ef6747",
   "metadata": {
    "tags": []
   },
   "outputs": [
    {
     "name": "stdout",
     "output_type": "stream",
     "text": [
      "Th Earth rotates around the Sun with a velocity of 107216 km/h, which is 2978222.22 cm/s\n"
     ]
    }
   ],
   "source": [
    "v_rot = 107216\n",
    "v_rot_cms = v_rot*1e+5/3600\n",
    "print(f\"Th Earth rotates around the Sun with a velocity of {v_rot:2d} km/h, which is {v_rot_cms:.2f} cm/s\")"
   ]
  },
  {
   "cell_type": "code",
   "execution_count": 45,
   "id": "c155a3c5",
   "metadata": {
    "tags": []
   },
   "outputs": [
    {
     "name": "stdout",
     "output_type": "stream",
     "text": [
      "Th Earth rotates around the Sun with a velocity of 107216 km/h, which is 2978222.22 cm/s\n"
     ]
    }
   ],
   "source": [
    "v_rot = 107216\n",
    "v_rot_cms = v_rot*1e+5/3600\n",
    "print(\"Th Earth rotates around the Sun with a velocity of %2d km/h, which is %.2f cm/s\"%(v_rot, v_rot_cms))"
   ]
  },
  {
   "cell_type": "markdown",
   "id": "c5fef628",
   "metadata": {},
   "source": [
    "#### 2.1.1.2 List operator."
   ]
  },
  {
   "cell_type": "markdown",
   "id": "2f1ee1a9",
   "metadata": {},
   "source": [
    "- Sometimes, you need to revise the list.\n",
    "- You can use many list operators/functions to revise the list."
   ]
  },
  {
   "cell_type": "markdown",
   "id": "c7ac8db5",
   "metadata": {},
   "source": [
    "#### 2.1.1.2.1. Addition"
   ]
  },
  {
   "cell_type": "markdown",
   "id": "57a023db",
   "metadata": {},
   "source": [
    "- You can add the two list to make a one list consisting of data from the both lists.\n",
    "- Note that addition operator combine the two lists, not operating as element-wise adding (<->array)"
   ]
  },
  {
   "cell_type": "code",
   "execution_count": 46,
   "id": "47be16d3",
   "metadata": {},
   "outputs": [
    {
     "name": "stdout",
     "output_type": "stream",
     "text": [
      "[0, 9, 29, 12, 8, 10, -1, 4]\n"
     ]
    }
   ],
   "source": [
    "A = [0,9,29,12]\n",
    "B = [8,10,-1,4]\n",
    "C = A+B\n",
    "print(C)"
   ]
  },
  {
   "cell_type": "markdown",
   "id": "73023e8c",
   "metadata": {},
   "source": [
    "##### 2.1.1.2.2. Change the data in the list"
   ]
  },
  {
   "cell_type": "markdown",
   "id": "faa44a5e",
   "metadata": {},
   "source": [
    "- It's simple, you just need to point the index of which the data you want to change and define the new value"
   ]
  },
  {
   "cell_type": "code",
   "execution_count": 47,
   "id": "f8662412",
   "metadata": {},
   "outputs": [
    {
     "name": "stdout",
     "output_type": "stream",
     "text": [
      "[0, 3, 11, 10]\n"
     ]
    }
   ],
   "source": [
    "A = [0,3,8,10]\n",
    "A[2] = 11 # change the thrid data in the list A into 11\n",
    "print(A)"
   ]
  },
  {
   "cell_type": "markdown",
   "id": "fbff8044",
   "metadata": {},
   "source": [
    "##### 2.1.1.2.3. Append the list"
   ]
  },
  {
   "cell_type": "markdown",
   "id": "72a7fe8d",
   "metadata": {},
   "source": [
    "- append() function appends the list with a new data"
   ]
  },
  {
   "cell_type": "code",
   "execution_count": 48,
   "id": "17f699e7",
   "metadata": {},
   "outputs": [
    {
     "name": "stdout",
     "output_type": "stream",
     "text": [
      "[0, 3, 8, 10, 5]\n"
     ]
    }
   ],
   "source": [
    "A = [0,3,8,10]\n",
    "A.append(5) # append the list A with 5 \n",
    "print(A)"
   ]
  },
  {
   "cell_type": "markdown",
   "id": "221900bc",
   "metadata": {},
   "source": [
    "##### 2.1.1.2.4. Other operators."
   ]
  },
  {
   "cell_type": "markdown",
   "id": "ba251d16",
   "metadata": {},
   "source": [
    "- sorting"
   ]
  },
  {
   "cell_type": "code",
   "execution_count": 49,
   "id": "6476be27",
   "metadata": {
    "tags": []
   },
   "outputs": [
    {
     "name": "stdout",
     "output_type": "stream",
     "text": [
      "[0, 1, 3, 5]\n"
     ]
    }
   ],
   "source": [
    "A = [0,5,3,1]\n",
    "A.sort()\n",
    "print(A)"
   ]
  },
  {
   "cell_type": "markdown",
   "id": "8d4615e1",
   "metadata": {},
   "source": [
    "- reversing"
   ]
  },
  {
   "cell_type": "code",
   "execution_count": 50,
   "id": "464a2a55",
   "metadata": {
    "tags": []
   },
   "outputs": [
    {
     "name": "stdout",
     "output_type": "stream",
     "text": [
      "[10, 8, 3, 0]\n"
     ]
    }
   ],
   "source": [
    "A = [0,3,8,10]\n",
    "A.reverse()\n",
    "print(A)"
   ]
  },
  {
   "cell_type": "markdown",
   "id": "44cc2372",
   "metadata": {},
   "source": [
    "- find the index corresponding to the data"
   ]
  },
  {
   "cell_type": "code",
   "execution_count": 51,
   "id": "b54e3cf9",
   "metadata": {
    "tags": []
   },
   "outputs": [
    {
     "name": "stdout",
     "output_type": "stream",
     "text": [
      "2\n"
     ]
    }
   ],
   "source": [
    "A = [0,3,8,10]\n",
    "print(A.index(8))"
   ]
  },
  {
   "cell_type": "markdown",
   "id": "36b2f9af",
   "metadata": {},
   "source": [
    "- add new data at a specific index"
   ]
  },
  {
   "cell_type": "code",
   "execution_count": 52,
   "id": "fb24c8bb",
   "metadata": {
    "tags": []
   },
   "outputs": [
    {
     "name": "stdout",
     "output_type": "stream",
     "text": [
      "[0, 10, 3, 8, 10]\n"
     ]
    }
   ],
   "source": [
    "A = [0,3,8,10]\n",
    "A.insert(1,10)\n",
    "print(A)"
   ]
  },
  {
   "cell_type": "markdown",
   "id": "126cd1d6",
   "metadata": {},
   "source": [
    "### 2.2. Dictionary"
   ]
  },
  {
   "cell_type": "markdown",
   "id": "d765eb08",
   "metadata": {},
   "source": [
    "A dictionary is simliar with a list in that saving the data in one variable.\n",
    "\n",
    "The diffecne is that in the list numbers are assigned to each data, but in the dictionary you can assign the name to each data.\n",
    "\n",
    "The symobls for the dictionary is {}.\n"
   ]
  },
  {
   "cell_type": "code",
   "execution_count": 53,
   "id": "74e12ae9",
   "metadata": {},
   "outputs": [
    {
     "name": "stdout",
     "output_type": "stream",
     "text": [
      "a\n"
     ]
    }
   ],
   "source": [
    "B = {'A':'a', 'B':'b', 'C':'c'}\n",
    "print(B['A'])"
   ]
  },
  {
   "cell_type": "markdown",
   "id": "2c5a1cb9",
   "metadata": {},
   "source": [
    "You can add new data with a name in simlar way as the list"
   ]
  },
  {
   "cell_type": "code",
   "execution_count": 54,
   "id": "cde0d184",
   "metadata": {},
   "outputs": [
    {
     "name": "stdout",
     "output_type": "stream",
     "text": [
      "d\n"
     ]
    }
   ],
   "source": [
    "B = {'A':'a', 'B':'b', 'C':'c'}\n",
    "B['D'] = 'd'\n",
    "print(B['D'])"
   ]
  },
  {
   "cell_type": "markdown",
   "id": "bd7d538d",
   "metadata": {},
   "source": [
    "### 2.3. numpy array"
   ]
  },
  {
   "cell_type": "markdown",
   "id": "cc852f81",
   "metadata": {},
   "source": [
    "You can understand a numpy array by comparing it with the list.\n",
    "\n",
    "Numpy array and the list is the same in that both allows to save the data in one varaible.\n",
    "\n",
    "However, the numpy is specialized for arithmetic operations.\n",
    "\n",
    "It basically do element-wise calculation, unlike the list."
   ]
  },
  {
   "cell_type": "markdown",
   "id": "32ddc8ab",
   "metadata": {},
   "source": [
    "For example, you have a set of data (0,1,2,3) and (4,5,6,7).\n",
    "\n",
    "If you want to add each element, i.e. 0+1, 2+5, 2+6, and 3+7, you can't do it with the list (or use for loop you will learn in the next section).\n",
    "\n",
    "For this case, you have to use numpy array.\n",
    "\n",
    "First, define the numpy array by wrapping the list with np.array().\n",
    "\n",
    "Then apply the arithmetic operators you use for integers or floats."
   ]
  },
  {
   "cell_type": "code",
   "execution_count": 55,
   "id": "1e4a6195",
   "metadata": {
    "tags": []
   },
   "outputs": [
    {
     "name": "stdout",
     "output_type": "stream",
     "text": [
      "[ 8 19 28 16]\n",
      "[  0  90 -29  48]\n",
      "[  0.    0.9 -29.    3. ]\n"
     ]
    }
   ],
   "source": [
    "import numpy as np # to use numpy array, you have to import numpy package. Refer the module or package section for detailed description.\n",
    "A = [0,9,29,12]\n",
    "B = [8,10,-1,4]\n",
    "array1, array2 = np.array(A), np.array(B)\n",
    "print(array1+array2)\n",
    "print(array1*array2)\n",
    "print(array1/array2)"
   ]
  },
  {
   "cell_type": "code",
   "execution_count": 57,
   "id": "20f2749d",
   "metadata": {},
   "outputs": [
    {
     "ename": "TypeError",
     "evalue": "unsupported operand type(s) for /: 'list' and 'list'",
     "output_type": "error",
     "traceback": [
      "\u001b[0;31m---------------------------------------------------------------------------\u001b[0m",
      "\u001b[0;31mTypeError\u001b[0m                                 Traceback (most recent call last)",
      "Cell \u001b[0;32mIn[57], line 2\u001b[0m\n\u001b[1;32m      1\u001b[0m \u001b[38;5;66;03m# You can not do them with the list.\u001b[39;00m\n\u001b[0;32m----> 2\u001b[0m \u001b[43mA\u001b[49m\u001b[38;5;241;43m/\u001b[39;49m\u001b[43mB\u001b[49m\n",
      "\u001b[0;31mTypeError\u001b[0m: unsupported operand type(s) for /: 'list' and 'list'"
     ]
    }
   ],
   "source": [
    "# You can not do them with the list.\n",
    "A/B"
   ]
  },
  {
   "cell_type": "markdown",
   "id": "9eb561d2",
   "metadata": {},
   "source": [
    "## 2.2. Control structure"
   ]
  },
  {
   "cell_type": "markdown",
   "id": "263afdac",
   "metadata": {},
   "source": [
    "Maybe, this is the key part of coding.\n",
    "\n",
    "To program somthing, you should order the computer to do thing when/if something happens. e.g.) If you click an icon, run the program.\n",
    "\n",
    "You will learn thses kinds of syntax.\n",
    "\n",
    "By using them, you finall can maek your own program."
   ]
  },
  {
   "cell_type": "markdown",
   "id": "25dc319d",
   "metadata": {},
   "source": [
    "### 2.2.1. if statement"
   ]
  },
  {
   "cell_type": "markdown",
   "id": "5af11a4f",
   "metadata": {},
   "source": [
    "if statement allows to run the code only when the condition is statisfied.\n",
    "\n",
    "The basic syntax is like following:\n",
    "\n",
    "\n",
    "    if (condition):\n",
    "        run this code.\n",
    "\n",
    "\n",
    "In (condition), boolen values are used (recall that you will need boolen values for complex coding!).\n",
    "\n",
    "If (condition) is True, it will run the code below the if statment with a tab, otherwise will not run that."
   ]
  },
  {
   "cell_type": "code",
   "execution_count": 58,
   "id": "bd97eb45",
   "metadata": {
    "tags": []
   },
   "outputs": [
    {
     "name": "stdout",
     "output_type": "stream",
     "text": [
      "Your grade is S\n"
     ]
    }
   ],
   "source": [
    "score = 93.2\n",
    "if score > 80.: #(score=93.2>80. -> True)\n",
    "    print(\"Your grade is S\") # hence this code will be run"
   ]
  },
  {
   "cell_type": "code",
   "execution_count": 59,
   "id": "05163afa",
   "metadata": {},
   "outputs": [],
   "source": [
    "score = 73.2\n",
    "if score > 80.: #(score=73.2>80. -> False)\n",
    "    print(\"Your grade is S\") # hence this code will not be run"
   ]
  },
  {
   "cell_type": "markdown",
   "id": "f630e3a7",
   "metadata": {},
   "source": [
    "You can eloborate if statement with else and elif.\n",
    "\n",
    "- else statement specifies what your computer do unless if condition is not satisfied.\n",
    "- elif statement specifies what your computer do unless if condition is not satisfied, but other condition is satisfied."
   ]
  },
  {
   "cell_type": "code",
   "execution_count": 60,
   "id": "cc17f2ba",
   "metadata": {
    "tags": []
   },
   "outputs": [
    {
     "name": "stdout",
     "output_type": "stream",
     "text": [
      "Your grade is U\n"
     ]
    }
   ],
   "source": [
    "score = 63.2\n",
    "if score > 80.: # score=63.2>80 -> False\n",
    "    print(\"Your grade is S\") # thus, this code will not be run\n",
    "else: # instead\n",
    "    print(\"Your grade is U\") # this, this code will be run"
   ]
  },
  {
   "cell_type": "code",
   "execution_count": 61,
   "id": "69146432",
   "metadata": {
    "tags": []
   },
   "outputs": [
    {
     "name": "stdout",
     "output_type": "stream",
     "text": [
      "Your grade is B\n"
     ]
    }
   ],
   "source": [
    "score = 78.2\n",
    "if score > 80.: # score=63.2>80 -> False\n",
    "    print(\"Your grade is A\") # thus, this code will not be run\n",
    "elif score>70: # score=63.2>80 -> False, but (score=63.2>70) -> True\n",
    "    print(\"Your grade is B\") # thus, this code will be run\n",
    "elif score > 60: \n",
    "    print(\"Your grade is C\")\n",
    "else:\n",
    "    print(\"Your grade is F\")"
   ]
  },
  {
   "cell_type": "markdown",
   "id": "f30058b6",
   "metadata": {},
   "source": [
    "### 2.2.2. for loop"
   ]
  },
  {
   "cell_type": "markdown",
   "id": "e0c7367e",
   "metadata": {},
   "source": [
    "If you have to repeat the same work, it is better to order 'do this n-times' than 'do this, then do this, and then do this,...'\n",
    "\n",
    "For loop allows you to do this kinds of repeated works"
   ]
  },
  {
   "cell_type": "markdown",
   "id": "c97ddbb2",
   "metadata": {},
   "source": [
    "The syntax is like following:\n",
    "\n",
    "    for i in (...):\n",
    "        run this code with i\n",
    "\n",
    "In the code starting with for specifies the 'i' from (...)\n",
    "\n",
    "You will run the code below 'for ...' with i.\n",
    "\n",
    "Let's see the examples."
   ]
  },
  {
   "cell_type": "code",
   "execution_count": 62,
   "id": "0f0e5701",
   "metadata": {
    "tags": []
   },
   "outputs": [
    {
     "name": "stdout",
     "output_type": "stream",
     "text": [
      "[2, 3, 4, 5, 6]\n"
     ]
    }
   ],
   "source": [
    "A = [1,2,3,4,5]\n",
    "B = []\n",
    "\n",
    "for a in A: # The computer will repeate the below code with a extracted from the list A. i.e., 1, 2, 3, 4, and 5.\n",
    "    B.append(a+1)\n",
    "# this is the same as\n",
    "# i=1\n",
    "# B.append(i+1)\n",
    "# i=2\n",
    "# B.append(i+1)\n",
    "# i=3\n",
    "# B.append(i+1)\n",
    "# i=4\n",
    "# B.append(i+1)\n",
    "# i=5\n",
    "# B.append(i+1)\n",
    "    \n",
    "print(B)"
   ]
  },
  {
   "cell_type": "markdown",
   "id": "4e432a07",
   "metadata": {},
   "source": [
    "- compare the result with the below code based on numpy array"
   ]
  },
  {
   "cell_type": "code",
   "execution_count": 63,
   "id": "3ee7c7d7",
   "metadata": {
    "tags": []
   },
   "outputs": [
    {
     "name": "stdout",
     "output_type": "stream",
     "text": [
      "[2 3 4 5 6]\n"
     ]
    }
   ],
   "source": [
    "A = np.array([1,2,3,4,5])\n",
    "B = A+1\n",
    "print(B)"
   ]
  },
  {
   "cell_type": "markdown",
   "id": "fcf8dd63",
   "metadata": {},
   "source": [
    "- range function is very useful for for loop. range(n0, n1) generates the integer from n0 to n1."
   ]
  },
  {
   "cell_type": "code",
   "execution_count": 64,
   "id": "8b51552f",
   "metadata": {
    "tags": []
   },
   "outputs": [
    {
     "name": "stdout",
     "output_type": "stream",
     "text": [
      "0\n",
      "1\n",
      "2\n",
      "3\n",
      "4\n",
      "5\n",
      "6\n",
      "7\n",
      "8\n",
      "9\n",
      "10\n"
     ]
    }
   ],
   "source": [
    "for i in range(0,11):\n",
    "    print(i)"
   ]
  },
  {
   "cell_type": "markdown",
   "id": "a068cb55",
   "metadata": {},
   "source": [
    "### 2.2.3 while loop"
   ]
  },
  {
   "cell_type": "markdown",
   "id": "b0758958",
   "metadata": {},
   "source": [
    "while loop is similar with foor loop.\n",
    "\n",
    "The difference is that for loop specifies the number with which wokrs are repeated, while loop specifies the condition withi which works are repeated.\n",
    "\n",
    "The syntax is following:\n",
    "\n",
    "    while (condition):\n",
    "        run this code if the condition is satisfied, i.e. condition==True"
   ]
  },
  {
   "cell_type": "code",
   "execution_count": 65,
   "id": "c1f7e95d",
   "metadata": {
    "tags": []
   },
   "outputs": [
    {
     "name": "stdout",
     "output_type": "stream",
     "text": [
      "You need to study more\n",
      "You need to study more\n",
      "You need to study more\n",
      "You need to study more\n",
      "You need to study more\n",
      "You need to study more\n",
      "You need to study more\n",
      "You need to study more\n",
      "You got A+\n"
     ]
    }
   ],
   "source": [
    "score = 0\n",
    "study_time = 100\n",
    "while score < 80: # if score < 80, run the below code.\n",
    "    print('You need to study more')\n",
    "    score += study_time/10\n",
    "    \n",
    "print('You got A+')"
   ]
  },
  {
   "cell_type": "markdown",
   "id": "b25b2618",
   "metadata": {},
   "source": [
    "### 2.3.4. Break and continue"
   ]
  },
  {
   "cell_type": "markdown",
   "id": "fb40b950",
   "metadata": {},
   "source": [
    "Suppose you want to stop for or while loop if some condition is specified.\n",
    "\n",
    "In this case, you can use break."
   ]
  },
  {
   "cell_type": "code",
   "execution_count": 66,
   "id": "719c569d",
   "metadata": {
    "tags": []
   },
   "outputs": [
    {
     "name": "stdout",
     "output_type": "stream",
     "text": [
      "You need to study more\n",
      "You need to study more\n",
      "You need to study more\n",
      "You need to study more\n",
      "You need to study more\n",
      "You need to study more\n",
      "I will drop\n"
     ]
    }
   ],
   "source": [
    "score = 0\n",
    "study_time = 100\n",
    "n = 0\n",
    "while score < 80: # if score < 80 run below code\n",
    "    print('You need to study more')\n",
    "    score += study_time/10\n",
    "    n+=1\n",
    "    if n>5: # but, if n>5, stop running the code within the while loop and escape the while llop\n",
    "        print('I will drop')\n",
    "        break"
   ]
  },
  {
   "cell_type": "markdown",
   "id": "9b25dd99",
   "metadata": {},
   "source": [
    "or you can jump the code within the for or while loope with conitnue"
   ]
  },
  {
   "cell_type": "code",
   "execution_count": 67,
   "id": "20518d6a",
   "metadata": {
    "tags": []
   },
   "outputs": [
    {
     "name": "stdout",
     "output_type": "stream",
     "text": [
      "You need to study more\n",
      "I'll study\n",
      "You need to study more\n",
      "I'll study\n",
      "You need to study more\n",
      "I'll study\n",
      "You need to study more\n",
      "I'll study\n",
      "You need to study more\n",
      "I'll study\n",
      "You need to study more\n",
      "I'm tired\n",
      "You need to study more\n",
      "I'm tired\n",
      "You need to study more\n",
      "I'm tired\n"
     ]
    }
   ],
   "source": [
    "score = 0\n",
    "study_time = 100\n",
    "n = 0\n",
    "while score < 80: # if score < 80 run below code\n",
    "    print('You need to study more')\n",
    "    score += study_time/10\n",
    "    n+=1\n",
    "    if n>5: # but, if n>5, jump the below code within the while loop and go back to to while score < 80\n",
    "        print('I\\'m tired')\n",
    "        continue\n",
    "    print('I\\'ll study')"
   ]
  },
  {
   "cell_type": "markdown",
   "id": "53b9898a",
   "metadata": {},
   "source": [
    "# 3. Function"
   ]
  },
  {
   "cell_type": "markdown",
   "id": "43c5ba74",
   "metadata": {},
   "source": [
    "Until now, how to order you computer to do things.\n",
    "\n",
    "But, there is a problem.\n",
    "\n",
    "You have to specify what to do again whenever you order the computer, which is tedius.\n",
    "\n",
    "It will be good if we can teach the computer what to do for given variables so that you just need to input the varaibles.\n",
    "\n",
    "Python has that; it is a function.\n",
    "\n",
    "The sytax to define the function is\n",
    "    def function(variable1, variable2):\n",
    "        run the code with variable1 and variable2\n",
    "        return output of the function based on variable1 and variagle 2"
   ]
  },
  {
   "cell_type": "markdown",
   "id": "f8b08dbc",
   "metadata": {},
   "source": [
    "The below the example of the code that calculates the square sum of the elements in a list"
   ]
  },
  {
   "cell_type": "code",
   "execution_count": 68,
   "id": "7217c5e6",
   "metadata": {
    "tags": []
   },
   "outputs": [
    {
     "data": {
      "text/plain": [
       "134"
      ]
     },
     "execution_count": 68,
     "metadata": {},
     "output_type": "execute_result"
    }
   ],
   "source": [
    "def square_sum(A): # define the function with the name 'square_sume' that takes a list as an input.\n",
    "    b = 0\n",
    "    for a in A:\n",
    "        b += a**2\n",
    "    return b # return b\n",
    "\n",
    "a = [0,3,2,11]\n",
    "square_sum(a) # it takes the input a (list) and will return the output based on the defined function "
   ]
  },
  {
   "cell_type": "markdown",
   "id": "b6ff67c1",
   "metadata": {},
   "source": [
    "The variables defined within the function are local variables that are valid only within the function.\n",
    "\n",
    "It is invalid outside the function."
   ]
  },
  {
   "cell_type": "code",
   "execution_count": 69,
   "id": "7b0e1d77",
   "metadata": {},
   "outputs": [
    {
     "name": "stdout",
     "output_type": "stream",
     "text": [
      "0\n"
     ]
    },
    {
     "ename": "NameError",
     "evalue": "name 'local_b' is not defined",
     "output_type": "error",
     "traceback": [
      "\u001b[0;31m---------------------------------------------------------------------------\u001b[0m",
      "\u001b[0;31mNameError\u001b[0m                                 Traceback (most recent call last)",
      "Cell \u001b[0;32mIn[69], line 10\u001b[0m\n\u001b[1;32m      8\u001b[0m a \u001b[38;5;241m=\u001b[39m [\u001b[38;5;241m0\u001b[39m,\u001b[38;5;241m3\u001b[39m,\u001b[38;5;241m2\u001b[39m,\u001b[38;5;241m11\u001b[39m]\n\u001b[1;32m      9\u001b[0m square_sum(a)\n\u001b[0;32m---> 10\u001b[0m \u001b[38;5;28mprint\u001b[39m(\u001b[43mlocal_b\u001b[49m) \u001b[38;5;66;03m# this does not work because the variable local_b has never been defined.\u001b[39;00m\n",
      "\u001b[0;31mNameError\u001b[0m: name 'local_b' is not defined"
     ]
    }
   ],
   "source": [
    "def square_sum(A):\n",
    "    local_b = 0\n",
    "    print(local_b) # this works because the variable local_b is valid within the function.\n",
    "    for a in A:\n",
    "        local_b += a**2\n",
    "    return local_b\n",
    "\n",
    "a = [0,3,2,11]\n",
    "square_sum(a)\n",
    "print(local_b) # this does not work because the variable local_b has never been defined."
   ]
  },
  {
   "cell_type": "markdown",
   "id": "c707f6a9",
   "metadata": {},
   "source": [
    "# 4. Package"
   ]
  },
  {
   "cell_type": "markdown",
   "id": "9d04400e",
   "metadata": {},
   "source": [
    "Now, you can make any program you want.\n",
    "\n",
    "But, in practice, it is difficutl to make all program that you need.\n",
    "\n",
    "Actually, some Python programs are already well developed and used widle.\n",
    "\n",
    "You just need to download and import them.\n",
    "\n",
    "In this section you wil learn how to download, import and use the package"
   ]
  },
  {
   "cell_type": "markdown",
   "id": "ad3777a1",
   "metadata": {
    "tags": []
   },
   "source": [
    "## 4.1. Import packages\n",
    "To use packages, you need to import them into your code.\n",
    "\n",
    "Actually, the numpy you used for array is the package.\n",
    "\n",
    "You can import the package with the following syntax:\n",
    "\n",
    "    from (package) import function/sub_package(module) as name_you_want\n",
    "    \n",
    "The above code im import the function/sub_package from the 'package' as the 'name_you_want'.\n",
    "\n",
    "Once you import the package/sub_package you can use the list, array, dictionary, functions, and etc defined in the package by (package).(function)\n",
    "\n",
    "Let's see the example"
   ]
  },
  {
   "cell_type": "code",
   "execution_count": 70,
   "id": "f85f9d0d",
   "metadata": {
    "tags": []
   },
   "outputs": [
    {
     "data": {
      "text/plain": [
       "1.5"
      ]
     },
     "execution_count": 70,
     "metadata": {},
     "output_type": "execute_result"
    }
   ],
   "source": [
    "import numpy as np # import numpy package as the name of 'np'\n",
    "np.mean(np.array([0,1,2,3])) # mean function in the "
   ]
  },
  {
   "cell_type": "code",
   "execution_count": 71,
   "id": "9637737b",
   "metadata": {},
   "outputs": [
    {
     "data": {
      "text/plain": [
       "1.5"
      ]
     },
     "execution_count": 71,
     "metadata": {},
     "output_type": "execute_result"
    }
   ],
   "source": [
    "from numpy import mean # import mean function from the numpy package\n",
    "mean(np.array([0,1,2,3]))"
   ]
  },
  {
   "cell_type": "code",
   "execution_count": 72,
   "id": "1194af4d",
   "metadata": {},
   "outputs": [
    {
     "data": {
      "text/plain": [
       "1.5"
      ]
     },
     "execution_count": 72,
     "metadata": {},
     "output_type": "execute_result"
    }
   ],
   "source": [
    "from numpy import mean as mn # import mean function from the numpy package as the name of 'mn'\n",
    "mn(np.array([0,1,2,3]))"
   ]
  },
  {
   "cell_type": "markdown",
   "id": "baeb7a81",
   "metadata": {},
   "source": [
    "## 4.2. Install packages\n",
    "There are some ways to install packages.\n",
    "\n",
    "One widely used way is using pip command, which can be used in a Python environment with the following syntax:\n",
    "\n",
    "    %pip install astropy\n",
    "\n",
    "Once the package is installed in your envrionment, you don't need to repeat installing it."
   ]
  },
  {
   "cell_type": "code",
   "execution_count": 73,
   "id": "91c4a9c5",
   "metadata": {
    "tags": []
   },
   "outputs": [
    {
     "name": "stdout",
     "output_type": "stream",
     "text": [
      "Requirement already satisfied: astropy in /Users/gimtaewan/opt/anaconda3/lib/python3.8/site-packages (5.2.1)\n",
      "Requirement already satisfied: packaging>=19.0 in /Users/gimtaewan/opt/anaconda3/lib/python3.8/site-packages (from astropy) (24.0)\n",
      "Requirement already satisfied: numpy>=1.20 in /Users/gimtaewan/opt/anaconda3/lib/python3.8/site-packages (from astropy) (1.22.4)\n",
      "Requirement already satisfied: PyYAML>=3.13 in /Users/gimtaewan/opt/anaconda3/lib/python3.8/site-packages (from astropy) (5.3.1)\n",
      "Requirement already satisfied: pyerfa>=2.0 in /Users/gimtaewan/opt/anaconda3/lib/python3.8/site-packages (from astropy) (2.0.0.1)\n",
      "\n",
      "[notice] A new release of pip is available: 23.0 -> 24.2\n",
      "[notice] To update, run: pip install --upgrade pip\n",
      "Note: you may need to restart the kernel to use updated packages.\n"
     ]
    }
   ],
   "source": [
    "%pip install astropy"
   ]
  },
  {
   "cell_type": "code",
   "execution_count": 74,
   "id": "b8bda977",
   "metadata": {
    "tags": []
   },
   "outputs": [
    {
     "data": {
      "text/plain": [
       "25.0"
      ]
     },
     "execution_count": 74,
     "metadata": {},
     "output_type": "execute_result"
    }
   ],
   "source": [
    "from astropy.modeling import models # import models from astropy.modeling\n",
    "linear = models.Linear1D(slope=3, intercept=10) # Linear1D is the function (actually it is a class) that generates a linear function with the input slope and intercept\n",
    "linear(5)"
   ]
  },
  {
   "cell_type": "markdown",
   "id": "17ac029f",
   "metadata": {},
   "source": [
    "# 4. Read data file in Python"
   ]
  },
  {
   "cell_type": "markdown",
   "id": "89c661dc",
   "metadata": {},
   "source": [
    "When processing scientific data, you often have to bring them from external files.\n",
    "\n",
    "In this section, you will learn how to read the data saved in .txt, .csv, and etc. format in Python using numpy.loadtxt and pandas."
   ]
  },
  {
   "cell_type": "markdown",
   "id": "fb189225",
   "metadata": {},
   "source": [
    "## 4.1. numpy.loadtxt"
   ]
  },
  {
   "cell_type": "markdown",
   "id": "6017b282",
   "metadata": {},
   "source": [
    "numpy.loadtxt read a file and returns the data in the file into array\n",
    "\n",
    "The syntax for numpy.loadtxt is like following:\n",
    "\n",
    "    np.loadtxt('directory of the file', usecols=[n0, n1, ...], skiprows=N, unpack=boolen, delimiter)\n",
    "\n",
    "'directory of the file': specify the absolute/relative directory of the file\n",
    "\n",
    "usecols: specify the columns you read from the file.\n",
    "\n",
    "skiprwos: speicfy the number of rows you skip when reading the file. skiprows=N means you skip N rows and read the file from there. It is useful when the file \n",
    "contains non-column description. Default is 0\n",
    "\n",
    "unpack: Suppose you read the data with NxM. If unpack=True, the returned array has the the shape of NxM. If unpack=False, it has the shape of MxN. Default is False.\n",
    "\n",
    "delimiter: The character used to separate the values. Default is ' '."
   ]
  },
  {
   "cell_type": "markdown",
   "id": "f46d2d11",
   "metadata": {},
   "source": [
    "### Dicectory (thank you GPT!)\n",
    "\n",
    "A directory in computing is essentially the same as what many of you may already know as a folder. Just like you store documents, pictures, and other files in folders on your computer, directories are used to organize files and other directories in a structured way.\n",
    "\n",
    "Here’s a breakdown to help you understand the concept better:\n",
    "\n",
    "#### 1. What is a Directory?\n",
    "- A directory is a place where files and other directories (subdirectories) are stored. It's like a container that helps keep your files organized.\n",
    "- On your computer, directories are often called folders because they behave like physical folders where you store papers, pictures, etc.\n",
    "\n",
    "For example:\n",
    "- Inside the Documents directory, you might have subfolders like School, Projects, or Photos. Each of these subfolders is also a directory.\n",
    "- Your Documents folder on your computer is a directory.\n",
    "\n",
    "#### 2. How Directories Work in Python and JupyterLab\n",
    "\n",
    "When you're working with Python, especially in JupyterLab, directories help organize your code files and other resources like data files or images. \n",
    "\n",
    "- Home Directory: When you first open JupyterLab, you start in a default directory (the \"home directory\"). This is like the base folder where all your notebooks, data, and files are stored.\n",
    "  \n",
    "- Subdirectories: You can create new directories (or folders) within the home directory to keep things organized. For example, you might have a folder called \"Assignments\" for your coding tasks and another called \"Data\" for the files you work with.\n",
    "\n",
    "#### Example:\n",
    "Imagine you have a school project on your computer. You might organize it like this:\n",
    "- Documents (main folder)\n",
    "  - School Projects (a subdirectory for school-related things)\n",
    "    - Math Project (a subdirectory for your math project)\n",
    "      - `math_notes.txt` (a file with your project notes)\n",
    "      - `data.csv` (a file with data for your project)\n",
    "\n",
    "Each of these \"folders\" is a directory in your file system, and this structure helps keep everything tidy and easy to find."
   ]
  },
  {
   "cell_type": "markdown",
   "id": "78dbca54",
   "metadata": {},
   "source": [
    "### Absolute vs relative directory\n",
    "\n",
    "When you're working with directories (or folders) in Python or JupyterLab, you'll often need to refer to the location of files or directories. There are two ways to specify where a file or directory is located: using an absolute path or a relative path.\n",
    "\n",
    "Let’s break down these concepts:\n",
    "\n",
    "---\n",
    "\n",
    "#### 1. Absolute Directory (or Absolute Path)\n",
    "\n",
    "An absolute directory (or absolute path) is the full path to a file or folder, starting from the very top level of your computer’s directory structure.\n",
    "\n",
    "- It’s like giving someone the complete address to your house, starting with the country, city, street, and finally your house number. \n",
    "- In computing, the root directory is like the \"starting point\" or \"home\" of all your files on your computer.\n",
    "\n",
    "For example, imagine you have a file saved on your computer inside a folder structure that looks like this:\n",
    "\n",
    "```\n",
    "C:/\n",
    "   └── Users/\n",
    "        └── Alice/\n",
    "             └── Documents/\n",
    "                  └── Projects/\n",
    "                       └── project_notes.txt\n",
    "```\n",
    "\n",
    "The absolute path to `project_notes.txt` would look like this on Windows:\n",
    "\n",
    "```\n",
    "C:/Users/Alice/Documents/Projects/project_notes.txt\n",
    "```\n",
    "\n",
    "On macOS or Linux, it might look like this:\n",
    "\n",
    "```\n",
    "/home/alice/Documents/Projects/project_notes.txt\n",
    "```\n",
    "\n",
    "This is the full address of the file, starting from the root directory (e.g., `C:/` on Windows or `/home/` on Linux/macOS).\n",
    "\n",
    "#### Key Points about Absolute Paths:\n",
    "- They always start from the root of the file system.\n",
    "- They give the full location of the file or directory.\n",
    "- They are the same no matter where you are working from (inside different folders).\n",
    "\n",
    "---\n",
    "\n",
    "#### 2. Relative Directory (or Relative Path)\n",
    "\n",
    "A relative directory (or relative path) is a shorter path that describes the location of a file or folder relative to where you are currently working (your \"current directory\").\n",
    "\n",
    "- It’s like giving directions starting from where you are right now. For example, instead of saying \"start from the city center and go 5 blocks,\" you just say \"go 2 blocks to the right\" because you're already nearby.\n",
    "- If you're already in a certain folder, you don't need to give the full path to the file; you can just refer to the location from where you are now.\n",
    "\n",
    "For example, if you’re currently in the Projects directory:\n",
    "\n",
    "```\n",
    "C:/Users/Alice/Documents/Projects/\n",
    "```\n",
    "\n",
    "And you want to open the file `project_notes.txt`, you can simply use the relative path:\n",
    "\n",
    "```\n",
    "project_notes.txt\n",
    "```\n",
    "\n",
    "But if you are in the Documents directory:\n",
    "\n",
    "```\n",
    "C:/Users/Alice/Documents/\n",
    "```\n",
    "\n",
    "The relative path to the same file would be:\n",
    "\n",
    "```\n",
    "Projects/project_notes.txt\n",
    "```\n",
    "\n",
    "In this case, you're telling Python or JupyterLab to go inside the \"Projects\" folder to find the file.\n",
    "\n",
    "#### Key Points about Relative Paths:\n",
    "- They start from your current working directory.\n",
    "- They are shorter and change depending on where you're currently working.\n",
    "- They are useful when you know where your files are relative to your current location.\n",
    "\n",
    "#### 3. **When to Use Absolute vs. Relative Paths**\n",
    "\n",
    "- **Use Absolute Paths** when:\n",
    "  - You want to refer to a file from anywhere in your system.\n",
    "  - You need a fixed path that won’t change based on where you are working.\n",
    "\n",
    "- **Use Relative Paths** when:\n",
    "  - You want your code to be portable (e.g., it should work on different computers).\n",
    "  - You know the relative location of the file compared to where you’re currently working."
   ]
  },
  {
   "cell_type": "code",
   "execution_count": 2,
   "id": "3434cabc",
   "metadata": {},
   "outputs": [
    {
     "data": {
      "text/plain": [
       "array([[0.00000000e+00, 0.00000000e+00],\n",
       "       [8.33333333e-01, 3.47222222e+03],\n",
       "       [1.66666667e+00, 1.38888889e+04],\n",
       "       [2.50000000e+00, 3.12500000e+04],\n",
       "       [3.33333333e+00, 5.55555556e+04],\n",
       "       [4.16666667e+00, 8.68055556e+04],\n",
       "       [5.00000000e+00, 1.25000000e+05],\n",
       "       [5.83333333e+00, 1.70138889e+05],\n",
       "       [6.66666667e+00, 2.22222222e+05],\n",
       "       [7.50000000e+00, 2.81250000e+05],\n",
       "       [8.33333333e+00, 3.47222222e+05],\n",
       "       [9.16666667e+00, 4.20138889e+05],\n",
       "       [1.00000000e+01, 5.00000000e+05],\n",
       "       [1.08333333e+01, 5.86805556e+05],\n",
       "       [1.16666667e+01, 6.80555556e+05],\n",
       "       [1.25000000e+01, 7.81250000e+05],\n",
       "       [1.33333333e+01, 8.88888889e+05],\n",
       "       [1.41666667e+01, 1.00347222e+06],\n",
       "       [1.50000000e+01, 1.12500000e+06],\n",
       "       [1.58333333e+01, 1.25347222e+06],\n",
       "       [1.66666667e+01, 1.38888889e+06],\n",
       "       [1.75000000e+01, 1.53125000e+06],\n",
       "       [1.83333333e+01, 1.68055556e+06],\n",
       "       [1.91666667e+01, 1.83680556e+06],\n",
       "       [2.00000000e+01, 2.00000000e+06],\n",
       "       [2.08333333e+01, 2.17013889e+06],\n",
       "       [2.16666667e+01, 2.34722222e+06],\n",
       "       [2.25000000e+01, 2.53125000e+06],\n",
       "       [2.33333333e+01, 2.72222222e+06],\n",
       "       [2.41666667e+01, 2.92013889e+06],\n",
       "       [2.50000000e+01, 3.12500000e+06],\n",
       "       [2.58333333e+01, 3.33680556e+06],\n",
       "       [2.66666667e+01, 3.55555556e+06],\n",
       "       [2.75000000e+01, 3.78125000e+06],\n",
       "       [2.83333333e+01, 4.01388889e+06],\n",
       "       [2.91666667e+01, 4.25347222e+06],\n",
       "       [3.00000000e+01, 4.50000000e+06],\n",
       "       [3.08333333e+01, 4.75347222e+06],\n",
       "       [3.16666667e+01, 5.01388889e+06],\n",
       "       [3.25000000e+01, 5.28125000e+06],\n",
       "       [3.33333333e+01, 5.55555556e+06],\n",
       "       [3.41666667e+01, 5.83680556e+06],\n",
       "       [3.50000000e+01, 6.12500000e+06],\n",
       "       [3.58333333e+01, 6.42013889e+06],\n",
       "       [3.66666667e+01, 6.72222222e+06],\n",
       "       [3.75000000e+01, 7.03125000e+06],\n",
       "       [3.83333333e+01, 7.34722222e+06],\n",
       "       [3.91666667e+01, 7.67013889e+06],\n",
       "       [4.00000000e+01, 8.00000000e+06],\n",
       "       [4.08333333e+01, 8.33680556e+06],\n",
       "       [4.16666667e+01, 8.68055556e+06],\n",
       "       [4.25000000e+01, 9.03125000e+06],\n",
       "       [4.33333333e+01, 9.38888889e+06],\n",
       "       [4.41666667e+01, 9.75347222e+06],\n",
       "       [4.50000000e+01, 1.01250000e+07],\n",
       "       [4.58333333e+01, 1.05034722e+07],\n",
       "       [4.66666667e+01, 1.08888889e+07],\n",
       "       [4.75000000e+01, 1.12812500e+07],\n",
       "       [4.83333333e+01, 1.16805556e+07],\n",
       "       [4.91666667e+01, 1.20868056e+07],\n",
       "       [5.00000000e+01, 1.25000000e+07],\n",
       "       [5.08333333e+01, 1.29201389e+07],\n",
       "       [5.16666667e+01, 1.33472222e+07],\n",
       "       [5.25000000e+01, 1.37812500e+07],\n",
       "       [5.33333333e+01, 1.42222222e+07],\n",
       "       [5.41666667e+01, 1.46701389e+07],\n",
       "       [5.50000000e+01, 1.51250000e+07],\n",
       "       [5.58333333e+01, 1.55868056e+07],\n",
       "       [5.66666667e+01, 1.60555556e+07],\n",
       "       [5.75000000e+01, 1.65312500e+07],\n",
       "       [5.83333333e+01, 1.70138889e+07],\n",
       "       [5.91666667e+01, 1.75034722e+07],\n",
       "       [6.00000000e+01, 1.80000000e+07],\n",
       "       [6.08333333e+01, 1.85034722e+07],\n",
       "       [6.16666667e+01, 1.90138889e+07],\n",
       "       [6.25000000e+01, 1.95312500e+07],\n",
       "       [6.33333333e+01, 2.00555556e+07],\n",
       "       [6.41666667e+01, 2.05868056e+07],\n",
       "       [6.50000000e+01, 2.11250000e+07],\n",
       "       [6.58333333e+01, 2.16701389e+07],\n",
       "       [6.66666667e+01, 2.22222222e+07],\n",
       "       [6.75000000e+01, 2.27812500e+07],\n",
       "       [6.83333333e+01, 2.33472222e+07],\n",
       "       [6.91666667e+01, 2.39201389e+07],\n",
       "       [7.00000000e+01, 2.45000000e+07],\n",
       "       [7.08333333e+01, 2.50868056e+07],\n",
       "       [7.16666667e+01, 2.56805556e+07],\n",
       "       [7.25000000e+01, 2.62812500e+07],\n",
       "       [7.33333333e+01, 2.68888889e+07],\n",
       "       [7.41666667e+01, 2.75034722e+07],\n",
       "       [7.50000000e+01, 2.81250000e+07],\n",
       "       [7.58333333e+01, 2.87534722e+07],\n",
       "       [7.66666667e+01, 2.93888889e+07],\n",
       "       [7.75000000e+01, 3.00312500e+07],\n",
       "       [7.83333333e+01, 3.06805556e+07],\n",
       "       [7.91666667e+01, 3.13368056e+07],\n",
       "       [8.00000000e+01, 3.20000000e+07],\n",
       "       [8.08333333e+01, 3.26701389e+07],\n",
       "       [8.16666667e+01, 3.33472222e+07],\n",
       "       [8.25000000e+01, 3.40312500e+07],\n",
       "       [8.33333333e+01, 3.47222222e+07],\n",
       "       [8.41666667e+01, 3.54201389e+07],\n",
       "       [8.50000000e+01, 3.61250000e+07],\n",
       "       [8.58333333e+01, 3.68368056e+07],\n",
       "       [8.66666667e+01, 3.75555556e+07],\n",
       "       [8.75000000e+01, 3.82812500e+07],\n",
       "       [8.83333333e+01, 3.90138889e+07],\n",
       "       [8.91666667e+01, 3.97534722e+07],\n",
       "       [9.00000000e+01, 4.05000000e+07],\n",
       "       [9.08333333e+01, 4.12534722e+07],\n",
       "       [9.16666667e+01, 4.20138889e+07],\n",
       "       [9.25000000e+01, 4.27812500e+07],\n",
       "       [9.33333333e+01, 4.35555556e+07],\n",
       "       [9.41666667e+01, 4.43368056e+07],\n",
       "       [9.50000000e+01, 4.51250000e+07],\n",
       "       [9.58333333e+01, 4.59201389e+07],\n",
       "       [9.66666667e+01, 4.67222222e+07],\n",
       "       [9.75000000e+01, 4.75312500e+07],\n",
       "       [9.83333333e+01, 4.83472222e+07],\n",
       "       [9.91666667e+01, 4.91701389e+07],\n",
       "       [1.00000000e+02, 5.00000000e+07]])"
      ]
     },
     "execution_count": 2,
     "metadata": {},
     "output_type": "execute_result"
    }
   ],
   "source": [
    "import numpy as np\n",
    "np.loadtxt('read_example.txt', usecols=[0,1], skiprows=1)"
   ]
  },
  {
   "cell_type": "code",
   "execution_count": 4,
   "id": "4d81c168",
   "metadata": {},
   "outputs": [
    {
     "data": {
      "text/plain": [
       "array([  0.        ,   0.83333333,   1.66666667,   2.5       ,\n",
       "         3.33333333,   4.16666667,   5.        ,   5.83333333,\n",
       "         6.66666667,   7.5       ,   8.33333333,   9.16666667,\n",
       "        10.        ,  10.83333333,  11.66666667,  12.5       ,\n",
       "        13.33333333,  14.16666667,  15.        ,  15.83333333,\n",
       "        16.66666667,  17.5       ,  18.33333333,  19.16666667,\n",
       "        20.        ,  20.83333333,  21.66666667,  22.5       ,\n",
       "        23.33333333,  24.16666667,  25.        ,  25.83333333,\n",
       "        26.66666667,  27.5       ,  28.33333333,  29.16666667,\n",
       "        30.        ,  30.83333333,  31.66666667,  32.5       ,\n",
       "        33.33333333,  34.16666667,  35.        ,  35.83333333,\n",
       "        36.66666667,  37.5       ,  38.33333333,  39.16666667,\n",
       "        40.        ,  40.83333333,  41.66666667,  42.5       ,\n",
       "        43.33333333,  44.16666667,  45.        ,  45.83333333,\n",
       "        46.66666667,  47.5       ,  48.33333333,  49.16666667,\n",
       "        50.        ,  50.83333333,  51.66666667,  52.5       ,\n",
       "        53.33333333,  54.16666667,  55.        ,  55.83333333,\n",
       "        56.66666667,  57.5       ,  58.33333333,  59.16666667,\n",
       "        60.        ,  60.83333333,  61.66666667,  62.5       ,\n",
       "        63.33333333,  64.16666667,  65.        ,  65.83333333,\n",
       "        66.66666667,  67.5       ,  68.33333333,  69.16666667,\n",
       "        70.        ,  70.83333333,  71.66666667,  72.5       ,\n",
       "        73.33333333,  74.16666667,  75.        ,  75.83333333,\n",
       "        76.66666667,  77.5       ,  78.33333333,  79.16666667,\n",
       "        80.        ,  80.83333333,  81.66666667,  82.5       ,\n",
       "        83.33333333,  84.16666667,  85.        ,  85.83333333,\n",
       "        86.66666667,  87.5       ,  88.33333333,  89.16666667,\n",
       "        90.        ,  90.83333333,  91.66666667,  92.5       ,\n",
       "        93.33333333,  94.16666667,  95.        ,  95.83333333,\n",
       "        96.66666667,  97.5       ,  98.33333333,  99.16666667,\n",
       "       100.        ])"
      ]
     },
     "execution_count": 4,
     "metadata": {},
     "output_type": "execute_result"
    }
   ],
   "source": [
    "data = np.loadtxt('read_example.txt', unpack=True, usecols=[0,1], skiprows=1)\n",
    "data[0]"
   ]
  },
  {
   "cell_type": "markdown",
   "id": "75c99088",
   "metadata": {},
   "source": [
    "## 4.2. Pandas"
   ]
  },
  {
   "cell_type": "markdown",
   "id": "e1992d07",
   "metadata": {},
   "source": [
    "Pandas is the pacakge specialized for data processing.\n",
    "\n",
    "Pandsa use an unique data structure called DataFrame.\n",
    "\n",
    "The DataFrame consists of several columns and each column has thier own name.\n",
    "\n",
    "Data are saved in each column.\n",
    "\n",
    "If you want to recall the data, you just need to the column and row.\n",
    "\n",
    "Let's see the example"
   ]
  },
  {
   "cell_type": "markdown",
   "id": "ae21c15e",
   "metadata": {},
   "source": [
    "### 4.2.1. array to Pandas DataFrame.\n",
    "It's smiple, you just need to wrap the array with Pandas.DataFrame() and speicfy the column names"
   ]
  },
  {
   "cell_type": "code",
   "execution_count": 12,
   "id": "b969d639",
   "metadata": {},
   "outputs": [
    {
     "data": {
      "text/html": [
       "<div>\n",
       "<style scoped>\n",
       "    .dataframe tbody tr th:only-of-type {\n",
       "        vertical-align: middle;\n",
       "    }\n",
       "\n",
       "    .dataframe tbody tr th {\n",
       "        vertical-align: top;\n",
       "    }\n",
       "\n",
       "    .dataframe thead th {\n",
       "        text-align: right;\n",
       "    }\n",
       "</style>\n",
       "<table border=\"1\" class=\"dataframe\">\n",
       "  <thead>\n",
       "    <tr style=\"text-align: right;\">\n",
       "      <th></th>\n",
       "      <th>time</th>\n",
       "      <th>distance</th>\n",
       "    </tr>\n",
       "  </thead>\n",
       "  <tbody>\n",
       "    <tr>\n",
       "      <th>0</th>\n",
       "      <td>1.0</td>\n",
       "      <td>10.1</td>\n",
       "    </tr>\n",
       "    <tr>\n",
       "      <th>1</th>\n",
       "      <td>2.0</td>\n",
       "      <td>15.3</td>\n",
       "    </tr>\n",
       "    <tr>\n",
       "      <th>2</th>\n",
       "      <td>3.0</td>\n",
       "      <td>18.9</td>\n",
       "    </tr>\n",
       "  </tbody>\n",
       "</table>\n",
       "</div>"
      ],
      "text/plain": [
       "   time  distance\n",
       "0   1.0      10.1\n",
       "1   2.0      15.3\n",
       "2   3.0      18.9"
      ]
     },
     "execution_count": 12,
     "metadata": {},
     "output_type": "execute_result"
    }
   ],
   "source": [
    "import pandas as pd\n",
    "data = np.array([[1, 10.1], [2, 15.3], [3, 18.9]])\n",
    "test_result = pd.DataFrame(data, columns=['time', 'distance'])\n",
    "test_result"
   ]
  },
  {
   "cell_type": "markdown",
   "id": "0a221bad",
   "metadata": {},
   "source": [
    "you can reall the data using column names"
   ]
  },
  {
   "cell_type": "code",
   "execution_count": 13,
   "id": "5eeae082",
   "metadata": {},
   "outputs": [
    {
     "data": {
      "text/plain": [
       "0    1.0\n",
       "1    2.0\n",
       "2    3.0\n",
       "Name: time, dtype: float64"
      ]
     },
     "execution_count": 13,
     "metadata": {},
     "output_type": "execute_result"
    }
   ],
   "source": [
    "test_result['time']"
   ]
  },
  {
   "cell_type": "code",
   "execution_count": 14,
   "id": "7122eea0",
   "metadata": {},
   "outputs": [
    {
     "data": {
      "text/plain": [
       "15.3"
      ]
     },
     "execution_count": 14,
     "metadata": {},
     "output_type": "execute_result"
    }
   ],
   "source": [
    "test_result['distance'][1]"
   ]
  },
  {
   "cell_type": "markdown",
   "id": "fe80276b",
   "metadata": {},
   "source": [
    "Similar operations used for numpy array can be applied to Pandas DataFrame"
   ]
  },
  {
   "cell_type": "code",
   "execution_count": 17,
   "id": "a61080fe",
   "metadata": {},
   "outputs": [
    {
     "name": "stdout",
     "output_type": "stream",
     "text": [
      "0    0.0101\n",
      "1    0.0153\n",
      "2    0.0189\n",
      "Name: distance, dtype: float64\n",
      "0    11.1\n",
      "1    17.3\n",
      "2    21.9\n",
      "dtype: float64\n"
     ]
    }
   ],
   "source": [
    "print(test_result['distance']/1000)\n",
    "print(test_result['distance']+test_result['time'])"
   ]
  },
  {
   "cell_type": "markdown",
   "id": "b15b80f6",
   "metadata": {},
   "source": [
    "you can append column by specifying the column name and data"
   ]
  },
  {
   "cell_type": "code",
   "execution_count": 21,
   "id": "2492b392",
   "metadata": {},
   "outputs": [
    {
     "data": {
      "text/html": [
       "<div>\n",
       "<style scoped>\n",
       "    .dataframe tbody tr th:only-of-type {\n",
       "        vertical-align: middle;\n",
       "    }\n",
       "\n",
       "    .dataframe tbody tr th {\n",
       "        vertical-align: top;\n",
       "    }\n",
       "\n",
       "    .dataframe thead th {\n",
       "        text-align: right;\n",
       "    }\n",
       "</style>\n",
       "<table border=\"1\" class=\"dataframe\">\n",
       "  <thead>\n",
       "    <tr style=\"text-align: right;\">\n",
       "      <th></th>\n",
       "      <th>time</th>\n",
       "      <th>distance</th>\n",
       "      <th>average_velocity</th>\n",
       "    </tr>\n",
       "  </thead>\n",
       "  <tbody>\n",
       "    <tr>\n",
       "      <th>0</th>\n",
       "      <td>1.0</td>\n",
       "      <td>10.1</td>\n",
       "      <td>10.10</td>\n",
       "    </tr>\n",
       "    <tr>\n",
       "      <th>1</th>\n",
       "      <td>2.0</td>\n",
       "      <td>15.3</td>\n",
       "      <td>7.65</td>\n",
       "    </tr>\n",
       "    <tr>\n",
       "      <th>2</th>\n",
       "      <td>3.0</td>\n",
       "      <td>18.9</td>\n",
       "      <td>6.30</td>\n",
       "    </tr>\n",
       "  </tbody>\n",
       "</table>\n",
       "</div>"
      ],
      "text/plain": [
       "   time  distance  average_velocity\n",
       "0   1.0      10.1             10.10\n",
       "1   2.0      15.3              7.65\n",
       "2   3.0      18.9              6.30"
      ]
     },
     "execution_count": 21,
     "metadata": {},
     "output_type": "execute_result"
    }
   ],
   "source": [
    "test_result['average_velocity'] = test_result['distance']/test_result['time'] \n",
    "test_result"
   ]
  },
  {
   "cell_type": "markdown",
   "id": "5902d7e1",
   "metadata": {},
   "source": [
    "### 4.3.2. Read data using Pandas\n",
    "You can read the data in txt or csv format using pandas.read_csv()\n",
    "The syntax is like following:\n",
    "\n",
    "    pd.read_csv('directory of the file', delimiter, skiprows)\n",
    "\n",
    "'directory of the file': absolute/relative direcotry of the file you read\n",
    "\n",
    "delimiter: similar to that of the numpy.loadtxt excetp for that default is ','\n",
    "\n",
    "skiprwos: the same as that of the numpy.loadtxt"
   ]
  },
  {
   "cell_type": "code",
   "execution_count": null,
   "id": "b1f0c3cc",
   "metadata": {},
   "outputs": [
    {
     "data": {
      "text/html": [
       "<div>\n",
       "<style scoped>\n",
       "    .dataframe tbody tr th:only-of-type {\n",
       "        vertical-align: middle;\n",
       "    }\n",
       "\n",
       "    .dataframe tbody tr th {\n",
       "        vertical-align: top;\n",
       "    }\n",
       "\n",
       "    .dataframe thead th {\n",
       "        text-align: right;\n",
       "    }\n",
       "</style>\n",
       "<table border=\"1\" class=\"dataframe\">\n",
       "  <thead>\n",
       "    <tr style=\"text-align: right;\">\n",
       "      <th></th>\n",
       "      <th>time(s)</th>\n",
       "      <th>displacement(cm)</th>\n",
       "    </tr>\n",
       "  </thead>\n",
       "  <tbody>\n",
       "    <tr>\n",
       "      <th>0</th>\n",
       "      <td>0.000000</td>\n",
       "      <td>0.000000e+00</td>\n",
       "    </tr>\n",
       "    <tr>\n",
       "      <th>1</th>\n",
       "      <td>0.833333</td>\n",
       "      <td>3.472222e+03</td>\n",
       "    </tr>\n",
       "    <tr>\n",
       "      <th>2</th>\n",
       "      <td>1.666667</td>\n",
       "      <td>1.388889e+04</td>\n",
       "    </tr>\n",
       "    <tr>\n",
       "      <th>3</th>\n",
       "      <td>2.500000</td>\n",
       "      <td>3.125000e+04</td>\n",
       "    </tr>\n",
       "    <tr>\n",
       "      <th>4</th>\n",
       "      <td>3.333333</td>\n",
       "      <td>5.555556e+04</td>\n",
       "    </tr>\n",
       "    <tr>\n",
       "      <th>...</th>\n",
       "      <td>...</td>\n",
       "      <td>...</td>\n",
       "    </tr>\n",
       "    <tr>\n",
       "      <th>116</th>\n",
       "      <td>96.666667</td>\n",
       "      <td>4.672222e+07</td>\n",
       "    </tr>\n",
       "    <tr>\n",
       "      <th>117</th>\n",
       "      <td>97.500000</td>\n",
       "      <td>4.753125e+07</td>\n",
       "    </tr>\n",
       "    <tr>\n",
       "      <th>118</th>\n",
       "      <td>98.333333</td>\n",
       "      <td>4.834722e+07</td>\n",
       "    </tr>\n",
       "    <tr>\n",
       "      <th>119</th>\n",
       "      <td>99.166667</td>\n",
       "      <td>4.917014e+07</td>\n",
       "    </tr>\n",
       "    <tr>\n",
       "      <th>120</th>\n",
       "      <td>100.000000</td>\n",
       "      <td>5.000000e+07</td>\n",
       "    </tr>\n",
       "  </tbody>\n",
       "</table>\n",
       "<p>121 rows × 2 columns</p>\n",
       "</div>"
      ],
      "text/plain": [
       "        time(s)  displacement(cm)\n",
       "0      0.000000      0.000000e+00\n",
       "1      0.833333      3.472222e+03\n",
       "2      1.666667      1.388889e+04\n",
       "3      2.500000      3.125000e+04\n",
       "4      3.333333      5.555556e+04\n",
       "..          ...               ...\n",
       "116   96.666667      4.672222e+07\n",
       "117   97.500000      4.753125e+07\n",
       "118   98.333333      4.834722e+07\n",
       "119   99.166667      4.917014e+07\n",
       "120  100.000000      5.000000e+07\n",
       "\n",
       "[121 rows x 2 columns]"
      ]
     },
     "metadata": {},
     "output_type": "display_data"
    }
   ],
   "source": [
    "import pandas as pd\n",
    "pd.read_csv('read_example.txt', delimiter=' ')"
   ]
  },
  {
   "cell_type": "markdown",
   "id": "890787f2",
   "metadata": {
    "tags": []
   },
   "source": [
    "# 5. Plotting"
   ]
  },
  {
   "cell_type": "markdown",
   "id": "f23293a4",
   "metadata": {},
   "source": [
    "Plotting is one of the key process in scientific analysis.\n",
    "\n",
    "Python provides convenient tools to plot data.\n",
    "\n",
    "In this section, you will learn how to plot the figure in Python using matplotlib library (it will be better than Excel!)."
   ]
  },
  {
   "cell_type": "markdown",
   "id": "d9fe28fe",
   "metadata": {},
   "source": [
    "## plt.subplots\n",
    "To plot the graph, you first need to define the panel on which you draw.\n",
    "\n",
    "There are many options to do it in matplotlib, but in this class, we will only learn plt.subplots, which is simple and easy to use.\n",
    "\n",
    "The syntax of plt.supblots is\n",
    "\n",
    "    f, ax = plt.subplots(n, m, figsize=(float1, float2))\n",
    "\n",
    "Then, it returns the data tha includes the information on this figure and panels with the shape of n amd m with the figure size of (floag1xfloat2)\n",
    "\n",
    "In the above code, the information on the figure is saved in f and panels are saved in ax\n",
    "\n",
    "To plot the data, use plot function at specific panel on which you want to draw.\n",
    "\n",
    "    ax[i,j].plot(x, y)\n",
    "\n",
    "The above code draw (x,y) data on i,j-th panel.\n",
    "\n",
    "Let's see the example\n"
   ]
  },
  {
   "cell_type": "code",
   "execution_count": 23,
   "id": "480468ad",
   "metadata": {
    "tags": []
   },
   "outputs": [
    {
     "data": {
      "text/plain": [
       "[<matplotlib.lines.Line2D at 0x7fe6e9352250>]"
      ]
     },
     "execution_count": 23,
     "metadata": {},
     "output_type": "execute_result"
    },
    {
     "data": {
      "image/png": "[encoded data removed]",
      "text/plain": [
       "<Figure size 640x480 with 1 Axes>"
      ]
     },
     "metadata": {},
     "output_type": "display_data"
    }
   ],
   "source": [
    "from matplotlib import pyplot as plt # import pyplot from matplotlib with the name of plt\n",
    "import numpy as np\n",
    "\n",
    "def linear(x):\n",
    "    return 5*x+11\n",
    "\n",
    "x = np.arange(0,100,2) # x data\n",
    "y = linear(x) # y data\n",
    "\n",
    "f, ax = plt.subplots(1,1) # create the panels with the shape of 1x1 (i.e. one panel). f contains the infomration on this figure, and panels are saved in ax.\n",
    "ax.plot(x,y) # plot x and y data on ax. because there is only one panel, you don't have to specify the index of the panel."
   ]
  },
  {
   "cell_type": "code",
   "execution_count": 24,
   "id": "ecc09964",
   "metadata": {
    "tags": []
   },
   "outputs": [
    {
     "data": {
      "text/plain": [
       "[<matplotlib.lines.Line2D at 0x7fe6c96c67f0>]"
      ]
     },
     "execution_count": 24,
     "metadata": {},
     "output_type": "execute_result"
    },
    {
     "data": {
      "image/png": "[encoded data removed]",
      "text/plain": [
       "<Figure size 1500x500 with 1 Axes>"
      ]
     },
     "metadata": {},
     "output_type": "display_data"
    }
   ],
   "source": [
    "f, ax = plt.subplots(1,1, figsize=(15,5)) # here, we specify the size of the figure\n",
    "ax.plot(x,y)"
   ]
  },
  {
   "cell_type": "code",
   "execution_count": 25,
   "id": "d94251ef",
   "metadata": {
    "tags": []
   },
   "outputs": [
    {
     "data": {
      "text/plain": [
       "[<matplotlib.lines.Line2D at 0x7fe6e95cb640>]"
      ]
     },
     "execution_count": 25,
     "metadata": {},
     "output_type": "execute_result"
    },
    {
     "data": {
      "image/png": "[encoded data removed]",
      "text/plain": [
       "<Figure size 640x480 with 4 Axes>"
      ]
     },
     "metadata": {},
     "output_type": "display_data"
    }
   ],
   "source": [
    "f, ax = plt.subplots(2,2) # here, we generate 2x2 panels\n",
    "ax[0,1].plot(x,y) # because there are multiple panels, you have to specify the panel on which you draw the graph."
   ]
  },
  {
   "cell_type": "markdown",
   "id": "ca27abef",
   "metadata": {},
   "source": [
    "You can change the shape of the graph by specifying the option following x and y data.\n",
    "\n",
    "It specifies the color and shape of the graph:\n",
    "\n",
    "    ax.plot(x,y,'(color)(shape)')\n",
    "\n",
    "Example color codes are:\n",
    "\n",
    "k: black\n",
    "\n",
    "r: red\n",
    "\n",
    "g: green\n",
    "\n",
    "b: blue\n",
    "\n",
    "Example shape symbols are:\n",
    "\n",
    "-: solid line\n",
    "--: dashed line:\n",
    "o: circle point\n",
    "d: diamond point\n",
    "^: triangle point\n",
    "\n",
    "You can find more option in matplotlib documents:https://matplotlib.org/stable/api/_as_gen/matplotlib.pyplot.plot.html"
   ]
  },
  {
   "cell_type": "code",
   "execution_count": 26,
   "id": "e18bfccd",
   "metadata": {
    "tags": []
   },
   "outputs": [
    {
     "data": {
      "text/plain": [
       "[<matplotlib.lines.Line2D at 0x7fe6d952e9a0>]"
      ]
     },
     "execution_count": 26,
     "metadata": {},
     "output_type": "execute_result"
    },
    {
     "data": {
      "image/png": "[encoded data removed]",
      "text/plain": [
       "<Figure size 640x480 with 1 Axes>"
      ]
     },
     "metadata": {},
     "output_type": "display_data"
    }
   ],
   "source": [
    "f, ax = plt.subplots(1,1)\n",
    "ax.plot(x,y,'bd') # blude diamond"
   ]
  },
  {
   "cell_type": "markdown",
   "id": "85083a88",
   "metadata": {},
   "source": [
    "You can label the graph using legend() function.\n",
    "\n",
    "To use it, first specify the label name in plot function (ax.plot(x,y,label='label1'))\n",
    "then, run legend function: ax.legend()\n",
    "\n",
    "you can change the location of the legend by changing variable loc.\n",
    "\n",
    "Thue number of loc determines the location of the legend: https://matplotlib.org/stable/api/_as_gen/matplotlib.pyplot.legend.html\n",
    "\n",
    "Also, you can change the fontsize of the legend by adjusing fontsize variable."
   ]
  },
  {
   "cell_type": "code",
   "execution_count": 27,
   "id": "78aef9fe",
   "metadata": {
    "tags": []
   },
   "outputs": [
    {
     "data": {
      "text/plain": [
       "<matplotlib.legend.Legend at 0x7fe6e96d3fa0>"
      ]
     },
     "execution_count": 27,
     "metadata": {},
     "output_type": "execute_result"
    },
    {
     "data": {
      "image/png": "[encoded data removed]",
      "text/plain": [
       "<Figure size 640x480 with 1 Axes>"
      ]
     },
     "metadata": {},
     "output_type": "display_data"
    }
   ],
   "source": [
    "from matplotlib import pyplot as plt\n",
    "import numpy as np\n",
    "\n",
    "def linear1(x):\n",
    "    return 5*x+11\n",
    "\n",
    "def linear2(x):\n",
    "    return 6*x-15\n",
    "\n",
    "x = np.arange(0,100,2)\n",
    "y1 = linear1(x)\n",
    "y2 = linear2(x)\n",
    "\n",
    "f, ax = plt.subplots(1,1)\n",
    "ax.plot(x,y1,'r-', label='y=5x+11')\n",
    "ax.plot(x,y2,'b-', label='y=6x-15')\n",
    "ax.legend(loc=1, fontsize=20) # locate the legend at 1 (top right) with the fontsize of 20"
   ]
  },
  {
   "cell_type": "markdown",
   "id": "f24434f0",
   "metadata": {},
   "source": [
    "You can name the x,y-axes and title usign ax.set_xlabel, ax.set_ylabel, and ax.set_title\n",
    "\n",
    "Put the name you want in these functions.\n",
    "\n",
    "You can adjust the fontsize using variable fontsize"
   ]
  },
  {
   "cell_type": "code",
   "execution_count": 28,
   "id": "478130b3",
   "metadata": {
    "tags": []
   },
   "outputs": [
    {
     "data": {
      "text/plain": [
       "Text(0.5, 1.0, 'Example figure')"
      ]
     },
     "execution_count": 28,
     "metadata": {},
     "output_type": "execute_result"
    },
    {
     "data": {
      "image/png": "[encoded data removed]",
      "text/plain": [
       "<Figure size 640x480 with 1 Axes>"
      ]
     },
     "metadata": {},
     "output_type": "display_data"
    }
   ],
   "source": [
    "from matplotlib import pyplot as plt\n",
    "import numpy as np\n",
    "\n",
    "def linear1(x):\n",
    "    return 5*x+11\n",
    "\n",
    "def linear2(x):\n",
    "    return 6*x-15\n",
    "\n",
    "x = np.arange(0,100,2)\n",
    "y1 = linear1(x)\n",
    "y2 = linear2(x)\n",
    "\n",
    "f, ax = plt.subplots(1,1)\n",
    "ax.plot(x,y1,'r-', label='y=5x+11')\n",
    "ax.plot(x,y2,'b-', label='y=6x-15')\n",
    "ax.legend(loc=1)\n",
    "\n",
    "ax.set_xlim(0,130)\n",
    "ax.set_ylim(0,800)\n",
    "\n",
    "ax.set_xlabel('x', fontsize=15)\n",
    "ax.set_ylabel('y', fontsize=15)\n",
    "\n",
    "ax.set_title('Example figure', fontsize=15)"
   ]
  },
  {
   "cell_type": "markdown",
   "id": "822091a7",
   "metadata": {},
   "source": [
    "If you want to errobar in the figure, use ax.errorbar function.\n",
    "\n",
    "The syntax is \n",
    "\n",
    "    ax.errorbar(x,y, yerr=(y error), xerr=(x error), fmt='shape of the errorbar')"
   ]
  },
  {
   "cell_type": "code",
   "execution_count": null,
   "id": "6ea58d50",
   "metadata": {},
   "outputs": [
    {
     "data": {
      "text/plain": [
       "<ErrorbarContainer object of 3 artists>"
      ]
     },
     "execution_count": 16,
     "metadata": {},
     "output_type": "execute_result"
    },
    {
     "data": {
      "image/png": "[encoded data removed]",
      "text/plain": [
       "<Figure size 640x480 with 1 Axes>"
      ]
     },
     "metadata": {},
     "output_type": "display_data"
    }
   ],
   "source": [
    "from matplotlib import pyplot as plt\n",
    "import numpy as np\n",
    "\n",
    "def linear(x):\n",
    "    return 5*x+11\n",
    "\n",
    "x = np.arange(0,100,2)\n",
    "y0 = linear(x)\n",
    "error = np.random.normal(loc=0, scale=10, size=len(x))\n",
    "y = y0+error\n",
    "\n",
    "f,ax = plt.subplots()\n",
    "ax.plot(x,y0,'k--')\n",
    "ax.errorbar(x,y,yerr=error, fmt='ko')\n"
   ]
  },
  {
   "cell_type": "markdown",
   "id": "a593139b",
   "metadata": {},
   "source": [
    "# 6. Fitting"
   ]
  },
  {
   "cell_type": "markdown",
   "id": "15691d04",
   "metadata": {},
   "source": [
    "there are many packages for fitting"
   ]
  },
  {
   "cell_type": "code",
   "execution_count": null,
   "id": "0494d228",
   "metadata": {},
   "outputs": [],
   "source": [
    "from matplotlib import pyplot as plt\n",
    "import numpy as np\n",
    "\n",
    "def generator(x):\n",
    "    return 3*x**2+5*x+10+np.random.normal(loc=0, scale=50, size=len(x))\n",
    "\n",
    "x = np.linspace(0,20,50)\n",
    "y = generator(x)"
   ]
  },
  {
   "cell_type": "code",
   "execution_count": null,
   "id": "7a2038d0",
   "metadata": {},
   "outputs": [
    {
     "name": "stdout",
     "output_type": "stream",
     "text": [
      "popt:\n",
      "[  2.54479456  13.69842254 -14.69327217]\n",
      "pcov:\n",
      "[[ 5.03165012e-02 -1.00633002e+00  3.28597590e+00]\n",
      " [-1.00633002e+00  2.15214627e+01 -7.96681418e+01]\n",
      " [ 3.28597590e+00 -7.96681418e+01  4.02473813e+02]]\n",
      "\n",
      "a: 2.54+/-0.22\n",
      "b: 13.70+/-4.64\n",
      "c: -14.69+/-20.06\n"
     ]
    }
   ],
   "source": [
    "from scipy.optimize import curve_fit as cf\n",
    "\n",
    "def model(x,a,b,c):\n",
    "    return a*x**2+b*x+c\n",
    "\n",
    "popt, pcov = cf(model, x,y)\n",
    "print('popt:')\n",
    "print(popt)\n",
    "print('pcov:')\n",
    "print(pcov)\n",
    "print()\n",
    "\n",
    "print(f'a: {popt[0]:.2f}+/-{np.sqrt(pcov[0,0]):.2f}')\n",
    "print(f'b: {popt[1]:.2f}+/-{np.sqrt(pcov[1,1]):.2f}')\n",
    "print(f'c: {popt[2]:.2f}+/-{np.sqrt(pcov[2,2]):.2f}')"
   ]
  },
  {
   "cell_type": "code",
   "execution_count": null,
   "id": "49f861b2",
   "metadata": {},
   "outputs": [
    {
     "data": {
      "text/plain": [
       "Text(0, 0.5, 'y')"
      ]
     },
     "execution_count": 58,
     "metadata": {},
     "output_type": "execute_result"
    },
    {
     "data": {
      "image/png": "[encoded data removed]",
      "text/plain": [
       "<Figure size 640x480 with 1 Axes>"
      ]
     },
     "metadata": {},
     "output_type": "display_data"
    }
   ],
   "source": [
    "f,ax = plt.subplots()\n",
    "ax.plot(x,y,'ko', markerfacecolor='none', label='data')\n",
    "xx = np.linspace(0,20,1000)\n",
    "ax.plot(xx,model(xx,popt[0],popt[1],popt[2]),'k--', label='Fitted model')\n",
    "ax.legend()\n",
    "ax.set_xlabel('x')\n",
    "ax.set_ylabel('y')"
   ]
  },
  {
   "cell_type": "code",
   "execution_count": null,
   "metadata": {},
   "outputs": [],
   "source": []
  }
 ],
 "metadata": {
  "kernelspec": {
   "display_name": "Python 3 (ipykernel)",
   "language": "python",
   "name": "python3"
  },
  "language_info": {
   "codemirror_mode": {
    "name": "ipython",
    "version": 3
   },
   "file_extension": ".py",
   "mimetype": "text/x-python",
   "name": "python",
   "nbconvert_exporter": "python",
   "pygments_lexer": "ipython3",
   "version": "3.8.5"
  }
 },
 "nbformat": 4,
 "nbformat_minor": 5
}
