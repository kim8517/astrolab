{
 "cells": [
  {
   "cell_type": "code",
   "execution_count": 1,
   "metadata": {},
   "outputs": [],
   "source": [
    "import numpy as np\n",
    "from astroquery.sdss import SDSS\n",
    "from astropy import coordinates as coords\n",
    "from tqdm import tqdm"
   ]
  },
  {
   "cell_type": "code",
   "execution_count": 2,
   "metadata": {},
   "outputs": [],
   "source": [
    "cz, dm, ra, dec = np.loadtxt('data/allCF4_individual.txt', skiprows=5, unpack=True, usecols=[3, 4, -9,-8])"
   ]
  },
  {
   "cell_type": "code",
   "execution_count": 79,
   "metadata": {},
   "outputs": [],
   "source": [
    "f = open('data/matching.txt', 'w')\n",
    "f.write('ra_cf4 dec_cf4, ra_sdss, dec_sdss r objid\\n')\n",
    "for r, d in tqdm(zip(ra, dec), total=len(ra)):\n",
    "    # Define the coordinate object\n",
    "    coord = coords.SkyCoord(r, d, unit=\"deg\", frame='icrs')\n",
    "    \n",
    "    try:\n",
    "        # Query for spectra within 2 arcseconds of the coordinate\n",
    "        xid = SDSS.query_region(coord, spectro=True, radius='1arcsec', photoobj_fields=['r', 'objid'],\n",
    "                            specobj_fields=['ra', 'dec', 'plate', 'mjd', 'fiberID'], timeout=300)\n",
    "    \n",
    "        f.write('%f %f %f %f %f %d %d %d %d\\n'%(r, d, float(xid['ra'][0]), float(xid['dec'][0]),\n",
    "                                     float(xid['r'][0]), int(xid['objid'][0]), int(xid['plate'][0]),\n",
    "                                     int(xid['mjd'][0]), int(xid['fiberID'][0])))\n",
    "    except:\n",
    "        f.write(f'{r} {d} -999 -9999 -9 -9 -9 -9 -9\\n')\n",
    "        \n",
    "f.close()"
   ]
  },
  {
   "cell_type": "code",
   "execution_count": 41,
   "metadata": {},
   "outputs": [],
   "source": [
    "matched_ra, matched_dec, r, plate, mjd, fiberid = np.loadtxt('data/matching.txt', skiprows=1, unpack=True, usecols=[2,3,4,6,7,8])\n",
    "import matplotlib.pyplot as plt\n",
    "from scl_plot import scl_plt\n",
    "from specutils import Spectrum1D\n",
    "from astropy.constants import c\n",
    "c = c.to_value('km/s')\n",
    "import os\n",
    "\n",
    "ibright = np.where((r>-9)&(r<11.81))[0]\n",
    "\n",
    "os.system('rm -fr data/spectrum/*')\n",
    "dist = open(f'data/dist.txt', 'w')\n",
    "dist.write('spec dist\\n')\n",
    "for n,i in enumerate(ibright):\n",
    "    spec_hdu = SDSS.get_spectra(plate=plate[i], mjd=mjd[i], fiberID=fiberid[i], data_release=14)\n",
    "    spec = Spectrum1D.read(spec_hdu[0], format=\"SDSS-III/IV spec\")\n",
    "    lamb, flux = spec.spectral_axis.value, spec.flux.value\n",
    "    spec_txt = open(f'data/spectrum/spec{n}.txt', 'w')\n",
    "    spec_txt.write('lamb flux')\n",
    "    for l, f in zip(lamb, flux):\n",
    "        spec_txt.write(f'{l} {f}\\n')\n",
    "    spec_txt.close()\n",
    "    \n",
    "    d = 10**(dm[i]*0.2+1)/1e+6\n",
    "    dist.write(f'{n} {d}\\n')\n",
    "    \n",
    "dist.close()"
   ]
  },
  {
   "cell_type": "code",
   "execution_count": 38,
   "metadata": {},
   "outputs": [],
   "source": [
    "def init_measure_redshift():\n",
    "    file = open('measure_redshift.txt', 'w')\n",
    "    file.write('spec z')\n",
    "    for n in range(len(ibright)):\n",
    "        file.write(f'{n:d} {0.:5f}\\n')\n",
    "    file.close()\n",
    "init_measure_redshift()"
   ]
  },
  {
   "cell_type": "code",
   "execution_count": 209,
   "metadata": {},
   "outputs": [],
   "source": [
    "from astroquery.sdss import SDSS\n",
    "from astropy.table import Table\n",
    "import pandas as pd\n",
    "\n",
    "# Query for all objects with RA, DEC, and redshift information\n",
    "# This example shows how to query a specific region for demonstration purposes\n",
    "query = \"\"\"\n",
    "    SELECT ra, dec, z\n",
    "    FROM specObj\n",
    "    WHERE z > -0.5 AND z < 1\n",
    "\"\"\"\n",
    "\n",
    "# Perform the query\n",
    "results = SDSS.query_sql(query, read_timeout=120)\n",
    "pd_sdss = results.to_pandas()\n",
    "pd_sdss.to_csv('data/z_sdss', sep=' ', index=False)"
   ]
  },
  {
   "cell_type": "code",
   "execution_count": null,
   "metadata": {},
   "outputs": [],
   "source": []
  }
 ],
 "metadata": {
  "kernelspec": {
   "display_name": "base",
   "language": "python",
   "name": "python3"
  },
  "language_info": {
   "codemirror_mode": {
    "name": "ipython",
    "version": 3
   },
   "file_extension": ".py",
   "mimetype": "text/x-python",
   "name": "python",
   "nbconvert_exporter": "python",
   "pygments_lexer": "ipython3",
   "version": "3.8.5"
  }
 },
 "nbformat": 4,
 "nbformat_minor": 2
}
